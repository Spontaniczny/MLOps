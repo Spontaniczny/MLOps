{
 "cells": [
  {
   "metadata": {},
   "cell_type": "markdown",
   "source": "# 1.",
   "id": "16f536b5aacf59a7"
  },
  {
   "cell_type": "code",
   "id": "initial_id",
   "metadata": {
    "collapsed": true,
    "ExecuteTime": {
     "end_time": "2025-10-25T08:56:48.165312Z",
     "start_time": "2025-10-25T08:56:48.163602Z"
    }
   },
   "source": "# downloading files by hand because why not",
   "outputs": [],
   "execution_count": 1
  },
  {
   "metadata": {},
   "cell_type": "markdown",
   "source": "# 2.",
   "id": "aec0c708e9243ede"
  },
  {
   "metadata": {
    "ExecuteTime": {
     "end_time": "2025-10-25T08:56:48.291231Z",
     "start_time": "2025-10-25T08:56:48.217623Z"
    }
   },
   "cell_type": "code",
   "source": "import duckdb",
   "id": "46c53aaaf1b83c10",
   "outputs": [],
   "execution_count": 2
  },
  {
   "metadata": {
    "ExecuteTime": {
     "end_time": "2025-10-25T08:56:48.317954Z",
     "start_time": "2025-10-25T08:56:48.302222Z"
    }
   },
   "cell_type": "code",
   "source": [
    "db = duckdb.connect(\"data/duckdb_trains.db\")\n",
    "db"
   ],
   "id": "4fde8072f083f21",
   "outputs": [
    {
     "data": {
      "text/plain": [
       "<_duckdb.DuckDBPyConnection at 0x7df096c4d030>"
      ]
     },
     "execution_count": 3,
     "metadata": {},
     "output_type": "execute_result"
    }
   ],
   "execution_count": 3
  },
  {
   "metadata": {
    "ExecuteTime": {
     "end_time": "2025-10-25T08:56:48.366998Z",
     "start_time": "2025-10-25T08:56:48.352535Z"
    }
   },
   "cell_type": "code",
   "source": [
    "db.sql(\"\"\"\n",
    "CREATE TABLE IF NOT EXISTS stations AS\n",
    "FROM \"data/stations-2023-09.csv\"\n",
    "\"\"\")"
   ],
   "id": "df431a50ca5cf9e0",
   "outputs": [],
   "execution_count": 4
  },
  {
   "metadata": {},
   "cell_type": "markdown",
   "source": "# 3.",
   "id": "2f50b0ce44977c5e"
  },
  {
   "metadata": {
    "ExecuteTime": {
     "end_time": "2025-10-25T08:56:48.509121Z",
     "start_time": "2025-10-25T08:56:48.400532Z"
    }
   },
   "cell_type": "code",
   "source": [
    "db.sql(\"\"\"\n",
    "CREATE TABLE IF NOT EXISTS distances AS\n",
    "    FROM read_csv(\n",
    "        \"data/tariff-distances-2022-01.csv\",\n",
    "        nullstr = 'XXX'\n",
    "    );\n",
    "\"\"\")"
   ],
   "id": "1a49ec91af9c5bee",
   "outputs": [],
   "execution_count": 5
  },
  {
   "metadata": {
    "ExecuteTime": {
     "end_time": "2025-10-25T08:56:48.536842Z",
     "start_time": "2025-10-25T08:56:48.523617Z"
    }
   },
   "cell_type": "code",
   "source": [
    "db.sql(\"\"\"\n",
    "FROM (DESCRIBE distances)\n",
    "LIMIT 5;\n",
    "\"\"\")"
   ],
   "id": "abcba7c9e7c7d02e",
   "outputs": [
    {
     "data": {
      "text/plain": [
       "┌─────────────┬─────────────┬─────────┬─────────┬─────────┬─────────┐\n",
       "│ column_name │ column_type │  null   │   key   │ default │  extra  │\n",
       "│   varchar   │   varchar   │ varchar │ varchar │ varchar │ varchar │\n",
       "├─────────────┼─────────────┼─────────┼─────────┼─────────┼─────────┤\n",
       "│ Station     │ VARCHAR     │ YES     │ NULL    │ NULL    │ NULL    │\n",
       "│ AC          │ BIGINT      │ YES     │ NULL    │ NULL    │ NULL    │\n",
       "│ AH          │ BIGINT      │ YES     │ NULL    │ NULL    │ NULL    │\n",
       "│ AHP         │ BIGINT      │ YES     │ NULL    │ NULL    │ NULL    │\n",
       "│ AHPR        │ BIGINT      │ YES     │ NULL    │ NULL    │ NULL    │\n",
       "└─────────────┴─────────────┴─────────┴─────────┴─────────┴─────────┘"
      ]
     },
     "execution_count": 6,
     "metadata": {},
     "output_type": "execute_result"
    }
   ],
   "execution_count": 6
  },
  {
   "metadata": {
    "ExecuteTime": {
     "end_time": "2025-10-25T08:56:48.577883Z",
     "start_time": "2025-10-25T08:56:48.572269Z"
    }
   },
   "cell_type": "code",
   "source": [
    "db.sql(\"\"\"\n",
    "SELECT #1, #2, #3, #4, #5, #6, #7, #8, #9\n",
    "FROM distances\n",
    "LIMIT 8;\n",
    "\"\"\")"
   ],
   "id": "314f306b57b78a51",
   "outputs": [
    {
     "data": {
      "text/plain": [
       "┌─────────┬───────┬───────┬───────┬───────┬───────┬───────┬───────┬───────┐\n",
       "│ Station │  AC   │  AH   │  AHP  │ AHPR  │  AHZ  │  AKL  │  AKM  │  ALM  │\n",
       "│ varchar │ int64 │ int64 │ int64 │ int64 │ int64 │ int64 │ int64 │ int64 │\n",
       "├─────────┼───────┼───────┼───────┼───────┼───────┼───────┼───────┼───────┤\n",
       "│ AC      │  NULL │    82 │    83 │    85 │    90 │    71 │   188 │    32 │\n",
       "│ AH      │    82 │  NULL │     1 │     3 │     8 │    77 │   153 │    98 │\n",
       "│ AHP     │    83 │     1 │  NULL │     2 │     9 │    78 │   152 │    99 │\n",
       "│ AHPR    │    85 │     3 │     2 │  NULL │    11 │    80 │   150 │   101 │\n",
       "│ AHZ     │    90 │     8 │     9 │    11 │  NULL │    69 │   161 │   106 │\n",
       "│ AKL     │    71 │    77 │    78 │    80 │    69 │  NULL │   211 │    96 │\n",
       "│ AKM     │   188 │   153 │   152 │   150 │   161 │   211 │  NULL │   158 │\n",
       "│ ALM     │    32 │    98 │    99 │   101 │   106 │    96 │   158 │  NULL │\n",
       "└─────────┴───────┴───────┴───────┴───────┴───────┴───────┴───────┴───────┘"
      ]
     },
     "execution_count": 7,
     "metadata": {},
     "output_type": "execute_result"
    }
   ],
   "execution_count": 7
  },
  {
   "metadata": {
    "ExecuteTime": {
     "end_time": "2025-10-25T08:56:48.627351Z",
     "start_time": "2025-10-25T08:56:48.620544Z"
    }
   },
   "cell_type": "code",
   "source": [
    "db.sql(\"\"\"\n",
    "CREATE TABLE IF NOT EXISTS distances_long AS\n",
    "    UNPIVOT distances\n",
    "    ON COLUMNS (* EXCLUDE station)\n",
    "    INTO NAME other_station VALUE distance;\n",
    "\"\"\")"
   ],
   "id": "957c2215e97dc7bc",
   "outputs": [],
   "execution_count": 8
  },
  {
   "metadata": {
    "ExecuteTime": {
     "end_time": "2025-10-25T08:56:48.673341Z",
     "start_time": "2025-10-25T08:56:48.668536Z"
    }
   },
   "cell_type": "code",
   "source": [
    "db.sql(\"\"\"\n",
    "SELECT station, other_station, distance\n",
    "FROM distances_long\n",
    "LIMIT 3;\n",
    "\"\"\")"
   ],
   "id": "7ee0a67a9d3e41db",
   "outputs": [
    {
     "data": {
      "text/plain": [
       "┌─────────┬───────────────┬──────────┐\n",
       "│ Station │ other_station │ distance │\n",
       "│ varchar │    varchar    │  int64   │\n",
       "├─────────┼───────────────┼──────────┤\n",
       "│ AC      │ AH            │       82 │\n",
       "│ AC      │ AHP           │       83 │\n",
       "│ AC      │ AHPR          │       85 │\n",
       "└─────────┴───────────────┴──────────┘"
      ]
     },
     "execution_count": 9,
     "metadata": {},
     "output_type": "execute_result"
    }
   ],
   "execution_count": 9
  },
  {
   "metadata": {
    "ExecuteTime": {
     "end_time": "2025-10-25T08:56:48.726322Z",
     "start_time": "2025-10-25T08:56:48.716540Z"
    }
   },
   "cell_type": "code",
   "source": [
    "db.sql(\"\"\"\n",
    "SELECT\n",
    "    s1.name_long AS station1,\n",
    "    s2.name_long AS station2,\n",
    "    distances_long.distance\n",
    "FROM distances_long\n",
    "JOIN stations s1 ON distances_long.station = s1.code\n",
    "JOIN stations s2 ON distances_long.other_station = s2.code\n",
    "WHERE s1.country = 'NL'\n",
    "  AND s2.country = 'NL'\n",
    "  AND station < other_station\n",
    "ORDER BY distance DESC\n",
    "LIMIT 3;\n",
    "\"\"\")"
   ],
   "id": "bb40be21906b63c7",
   "outputs": [
    {
     "data": {
      "text/plain": [
       "┌──────────────────┬────────────────────┬──────────┐\n",
       "│     station1     │      station2      │ distance │\n",
       "│     varchar      │      varchar       │  int64   │\n",
       "├──────────────────┼────────────────────┼──────────┤\n",
       "│ Eemshaven        │ Vlissingen         │      426 │\n",
       "│ Eemshaven        │ Vlissingen Souburg │      425 │\n",
       "│ Bad Nieuweschans │ Vlissingen         │      425 │\n",
       "└──────────────────┴────────────────────┴──────────┘"
      ]
     },
     "execution_count": 10,
     "metadata": {},
     "output_type": "execute_result"
    }
   ],
   "execution_count": 10
  },
  {
   "metadata": {},
   "cell_type": "markdown",
   "source": "# 4.",
   "id": "468512278d7e7620"
  },
  {
   "metadata": {
    "ExecuteTime": {
     "end_time": "2025-10-25T08:56:48.785425Z",
     "start_time": "2025-10-25T08:56:48.765121Z"
    }
   },
   "cell_type": "code",
   "source": [
    "db.sql(\"\"\"INSTALL postgres; LOAD postgres;\"\"\")\n",
    "\n",
    "# NEVER write password like this explicitly in real code!\n",
    "conn_string = \"host=localhost user=postgres password=postgres dbname=postgres\""
   ],
   "id": "6bca197babe6cef",
   "outputs": [],
   "execution_count": 11
  },
  {
   "metadata": {
    "ExecuteTime": {
     "end_time": "2025-10-25T08:56:48.829031Z",
     "start_time": "2025-10-25T08:56:48.812617Z"
    }
   },
   "cell_type": "code",
   "source": [
    "db.sql(f\"\"\"\n",
    "ATTACH IF NOT EXISTS '{conn_string}' AS postgres_db (TYPE postgres);\n",
    "\"\"\")"
   ],
   "id": "1fd67f4ba1ba081a",
   "outputs": [],
   "execution_count": 12
  },
  {
   "metadata": {
    "ExecuteTime": {
     "end_time": "2025-10-25T08:56:49.572719Z",
     "start_time": "2025-10-25T08:56:48.860084Z"
    }
   },
   "cell_type": "code",
   "source": [
    "schema_df = db.sql(f\"DESCRIBE 'data/disruptions-2023.csv'\").df()\n",
    "schema_df"
   ],
   "id": "af393ab8debdba84",
   "outputs": [
    {
     "data": {
      "text/plain": [
       "             column_name column_type null   key default extra\n",
       "0                 rdt_id      BIGINT  YES  None    None  None\n",
       "1               ns_lines     VARCHAR  YES  None    None  None\n",
       "2              rdt_lines     VARCHAR  YES  None    None  None\n",
       "3           rdt_lines_id     VARCHAR  YES  None    None  None\n",
       "4      rdt_station_names     VARCHAR  YES  None    None  None\n",
       "5      rdt_station_codes     VARCHAR  YES  None    None  None\n",
       "6               cause_nl     VARCHAR  YES  None    None  None\n",
       "7               cause_en     VARCHAR  YES  None    None  None\n",
       "8   statistical_cause_nl     VARCHAR  YES  None    None  None\n",
       "9   statistical_cause_en     VARCHAR  YES  None    None  None\n",
       "10           cause_group     VARCHAR  YES  None    None  None\n",
       "11            start_time   TIMESTAMP  YES  None    None  None\n",
       "12              end_time   TIMESTAMP  YES  None    None  None\n",
       "13      duration_minutes      BIGINT  YES  None    None  None"
      ],
      "text/html": [
       "<div>\n",
       "<style scoped>\n",
       "    .dataframe tbody tr th:only-of-type {\n",
       "        vertical-align: middle;\n",
       "    }\n",
       "\n",
       "    .dataframe tbody tr th {\n",
       "        vertical-align: top;\n",
       "    }\n",
       "\n",
       "    .dataframe thead th {\n",
       "        text-align: right;\n",
       "    }\n",
       "</style>\n",
       "<table border=\"1\" class=\"dataframe\">\n",
       "  <thead>\n",
       "    <tr style=\"text-align: right;\">\n",
       "      <th></th>\n",
       "      <th>column_name</th>\n",
       "      <th>column_type</th>\n",
       "      <th>null</th>\n",
       "      <th>key</th>\n",
       "      <th>default</th>\n",
       "      <th>extra</th>\n",
       "    </tr>\n",
       "  </thead>\n",
       "  <tbody>\n",
       "    <tr>\n",
       "      <th>0</th>\n",
       "      <td>rdt_id</td>\n",
       "      <td>BIGINT</td>\n",
       "      <td>YES</td>\n",
       "      <td>None</td>\n",
       "      <td>None</td>\n",
       "      <td>None</td>\n",
       "    </tr>\n",
       "    <tr>\n",
       "      <th>1</th>\n",
       "      <td>ns_lines</td>\n",
       "      <td>VARCHAR</td>\n",
       "      <td>YES</td>\n",
       "      <td>None</td>\n",
       "      <td>None</td>\n",
       "      <td>None</td>\n",
       "    </tr>\n",
       "    <tr>\n",
       "      <th>2</th>\n",
       "      <td>rdt_lines</td>\n",
       "      <td>VARCHAR</td>\n",
       "      <td>YES</td>\n",
       "      <td>None</td>\n",
       "      <td>None</td>\n",
       "      <td>None</td>\n",
       "    </tr>\n",
       "    <tr>\n",
       "      <th>3</th>\n",
       "      <td>rdt_lines_id</td>\n",
       "      <td>VARCHAR</td>\n",
       "      <td>YES</td>\n",
       "      <td>None</td>\n",
       "      <td>None</td>\n",
       "      <td>None</td>\n",
       "    </tr>\n",
       "    <tr>\n",
       "      <th>4</th>\n",
       "      <td>rdt_station_names</td>\n",
       "      <td>VARCHAR</td>\n",
       "      <td>YES</td>\n",
       "      <td>None</td>\n",
       "      <td>None</td>\n",
       "      <td>None</td>\n",
       "    </tr>\n",
       "    <tr>\n",
       "      <th>5</th>\n",
       "      <td>rdt_station_codes</td>\n",
       "      <td>VARCHAR</td>\n",
       "      <td>YES</td>\n",
       "      <td>None</td>\n",
       "      <td>None</td>\n",
       "      <td>None</td>\n",
       "    </tr>\n",
       "    <tr>\n",
       "      <th>6</th>\n",
       "      <td>cause_nl</td>\n",
       "      <td>VARCHAR</td>\n",
       "      <td>YES</td>\n",
       "      <td>None</td>\n",
       "      <td>None</td>\n",
       "      <td>None</td>\n",
       "    </tr>\n",
       "    <tr>\n",
       "      <th>7</th>\n",
       "      <td>cause_en</td>\n",
       "      <td>VARCHAR</td>\n",
       "      <td>YES</td>\n",
       "      <td>None</td>\n",
       "      <td>None</td>\n",
       "      <td>None</td>\n",
       "    </tr>\n",
       "    <tr>\n",
       "      <th>8</th>\n",
       "      <td>statistical_cause_nl</td>\n",
       "      <td>VARCHAR</td>\n",
       "      <td>YES</td>\n",
       "      <td>None</td>\n",
       "      <td>None</td>\n",
       "      <td>None</td>\n",
       "    </tr>\n",
       "    <tr>\n",
       "      <th>9</th>\n",
       "      <td>statistical_cause_en</td>\n",
       "      <td>VARCHAR</td>\n",
       "      <td>YES</td>\n",
       "      <td>None</td>\n",
       "      <td>None</td>\n",
       "      <td>None</td>\n",
       "    </tr>\n",
       "    <tr>\n",
       "      <th>10</th>\n",
       "      <td>cause_group</td>\n",
       "      <td>VARCHAR</td>\n",
       "      <td>YES</td>\n",
       "      <td>None</td>\n",
       "      <td>None</td>\n",
       "      <td>None</td>\n",
       "    </tr>\n",
       "    <tr>\n",
       "      <th>11</th>\n",
       "      <td>start_time</td>\n",
       "      <td>TIMESTAMP</td>\n",
       "      <td>YES</td>\n",
       "      <td>None</td>\n",
       "      <td>None</td>\n",
       "      <td>None</td>\n",
       "    </tr>\n",
       "    <tr>\n",
       "      <th>12</th>\n",
       "      <td>end_time</td>\n",
       "      <td>TIMESTAMP</td>\n",
       "      <td>YES</td>\n",
       "      <td>None</td>\n",
       "      <td>None</td>\n",
       "      <td>None</td>\n",
       "    </tr>\n",
       "    <tr>\n",
       "      <th>13</th>\n",
       "      <td>duration_minutes</td>\n",
       "      <td>BIGINT</td>\n",
       "      <td>YES</td>\n",
       "      <td>None</td>\n",
       "      <td>None</td>\n",
       "      <td>None</td>\n",
       "    </tr>\n",
       "  </tbody>\n",
       "</table>\n",
       "</div>"
      ]
     },
     "execution_count": 13,
     "metadata": {},
     "output_type": "execute_result"
    }
   ],
   "execution_count": 13
  },
  {
   "metadata": {
    "ExecuteTime": {
     "end_time": "2025-10-25T08:56:49.580767Z",
     "start_time": "2025-10-25T08:56:49.578491Z"
    }
   },
   "cell_type": "code",
   "source": [
    "column_defs = []\n",
    "for index, row in schema_df.iterrows():\n",
    "    col_name = row['column_name']\n",
    "    col_type = row['column_type']\n",
    "\n",
    "    column_defs.append(f'\"{col_name}\" {col_type}')\n",
    "\n",
    "column_sql = \",\\n    \".join(column_defs)"
   ],
   "id": "e29961f4c971b180",
   "outputs": [],
   "execution_count": 14
  },
  {
   "metadata": {
    "ExecuteTime": {
     "end_time": "2025-10-25T08:56:49.625274Z",
     "start_time": "2025-10-25T08:56:49.623813Z"
    }
   },
   "cell_type": "code",
   "source": [
    "create_table_sql = f\"\"\"\n",
    "CREATE TABLE IF NOT EXISTS postgres_db.disruptions (\n",
    "    {column_sql}\n",
    ");\n",
    "\"\"\""
   ],
   "id": "f70b640a2361ff0a",
   "outputs": [],
   "execution_count": 15
  },
  {
   "metadata": {
    "ExecuteTime": {
     "end_time": "2025-10-25T08:56:49.671746Z",
     "start_time": "2025-10-25T08:56:49.669979Z"
    }
   },
   "cell_type": "code",
   "source": "print(create_table_sql)",
   "id": "20a1e521357ae45b",
   "outputs": [
    {
     "name": "stdout",
     "output_type": "stream",
     "text": [
      "\n",
      "CREATE TABLE IF NOT EXISTS postgres_db.disruptions (\n",
      "    \"rdt_id\" BIGINT,\n",
      "    \"ns_lines\" VARCHAR,\n",
      "    \"rdt_lines\" VARCHAR,\n",
      "    \"rdt_lines_id\" VARCHAR,\n",
      "    \"rdt_station_names\" VARCHAR,\n",
      "    \"rdt_station_codes\" VARCHAR,\n",
      "    \"cause_nl\" VARCHAR,\n",
      "    \"cause_en\" VARCHAR,\n",
      "    \"statistical_cause_nl\" VARCHAR,\n",
      "    \"statistical_cause_en\" VARCHAR,\n",
      "    \"cause_group\" VARCHAR,\n",
      "    \"start_time\" TIMESTAMP,\n",
      "    \"end_time\" TIMESTAMP,\n",
      "    \"duration_minutes\" BIGINT\n",
      ");\n",
      "\n"
     ]
    }
   ],
   "execution_count": 16
  },
  {
   "metadata": {
    "ExecuteTime": {
     "end_time": "2025-10-25T08:56:49.729894Z",
     "start_time": "2025-10-25T08:56:49.716695Z"
    }
   },
   "cell_type": "code",
   "source": "db.sql(create_table_sql)",
   "id": "c5e871b7f0a089e1",
   "outputs": [],
   "execution_count": 17
  },
  {
   "metadata": {
    "ExecuteTime": {
     "end_time": "2025-10-25T08:56:49.764173Z",
     "start_time": "2025-10-25T08:56:49.762412Z"
    }
   },
   "cell_type": "code",
   "source": [
    "str_tab = [\"INSERT INTO postgres_db.disruptions\"]\n",
    "for i in range(2011, 2024):\n",
    "    str_tab.append(f\"SELECT * FROM 'data/disruptions-{i}.csv'\")\n",
    "    str_tab.append(\"UNION ALL\")\n",
    "\n",
    "str_tab.pop()\n",
    "\n",
    "query_insert = \"\\n    \".join(str_tab)"
   ],
   "id": "b4eda0a442f82b79",
   "outputs": [],
   "execution_count": 18
  },
  {
   "metadata": {
    "ExecuteTime": {
     "end_time": "2025-10-25T08:56:49.809240Z",
     "start_time": "2025-10-25T08:56:49.807679Z"
    }
   },
   "cell_type": "code",
   "source": "print(query_insert)",
   "id": "f6b58cbc0cee4b19",
   "outputs": [
    {
     "name": "stdout",
     "output_type": "stream",
     "text": [
      "INSERT INTO postgres_db.disruptions\n",
      "    SELECT * FROM 'data/disruptions-2011.csv'\n",
      "    UNION ALL\n",
      "    SELECT * FROM 'data/disruptions-2012.csv'\n",
      "    UNION ALL\n",
      "    SELECT * FROM 'data/disruptions-2013.csv'\n",
      "    UNION ALL\n",
      "    SELECT * FROM 'data/disruptions-2014.csv'\n",
      "    UNION ALL\n",
      "    SELECT * FROM 'data/disruptions-2015.csv'\n",
      "    UNION ALL\n",
      "    SELECT * FROM 'data/disruptions-2016.csv'\n",
      "    UNION ALL\n",
      "    SELECT * FROM 'data/disruptions-2017.csv'\n",
      "    UNION ALL\n",
      "    SELECT * FROM 'data/disruptions-2018.csv'\n",
      "    UNION ALL\n",
      "    SELECT * FROM 'data/disruptions-2019.csv'\n",
      "    UNION ALL\n",
      "    SELECT * FROM 'data/disruptions-2020.csv'\n",
      "    UNION ALL\n",
      "    SELECT * FROM 'data/disruptions-2021.csv'\n",
      "    UNION ALL\n",
      "    SELECT * FROM 'data/disruptions-2022.csv'\n",
      "    UNION ALL\n",
      "    SELECT * FROM 'data/disruptions-2023.csv'\n"
     ]
    }
   ],
   "execution_count": 19
  },
  {
   "metadata": {
    "ExecuteTime": {
     "end_time": "2025-10-25T08:56:50.224203Z",
     "start_time": "2025-10-25T08:56:49.853488Z"
    }
   },
   "cell_type": "code",
   "source": "db.sql(query_insert)",
   "id": "a7409a47eb3e008c",
   "outputs": [],
   "execution_count": 20
  },
  {
   "metadata": {
    "ExecuteTime": {
     "end_time": "2025-10-25T08:56:50.265853Z",
     "start_time": "2025-10-25T08:56:50.230125Z"
    }
   },
   "cell_type": "code",
   "source": [
    "db.sql(\"\"\"\n",
    "SELECT * FROM postgres_db.disruptions LIMIT 3\n",
    "\"\"\").df()"
   ],
   "id": "5c38fc6d5a996f",
   "outputs": [
    {
     "data": {
      "text/plain": [
       "   rdt_id                              ns_lines  \\\n",
       "0   40500  Den Haag-Rotterdam; Leiden-Rotterdam   \n",
       "1   40501  Amsterdam-Utrecht; Utrecht-Eindhoven   \n",
       "2   40502              Schiphol-Rotterdam (HSL)   \n",
       "\n",
       "                                           rdt_lines rdt_lines_id  \\\n",
       "0                   Den Haag HS - Rotterdam Centraal           11   \n",
       "1  's-Hertogenbosch - Utrecht Centraal, Amsterdam...      136,151   \n",
       "2        Rotterdam Centraal - Schiphol Airport (HSL)           24   \n",
       "\n",
       "                                   rdt_station_names  \\\n",
       "0  Delft,Delft Campus,Den Haag HS,Den Haag Moerwi...   \n",
       "1  Abcoude,Amsterdam Amstel,Amsterdam Bijlmer Are...   \n",
       "2                Rotterdam Centraal,Schiphol Airport   \n",
       "\n",
       "                                   rdt_station_codes              cause_nl  \\\n",
       "0                            DT, DTCP, GV, GVMW, RSW          brandmelding   \n",
       "1  AC, ASA, ASB, ASD, ASDM, ASHD, BKL, CL, DVD, G...  herstelwerkzaamheden   \n",
       "2                                           RTD, SHL          brandmelding   \n",
       "\n",
       "       cause_en  statistical_cause_nl statistical_cause_en       cause_group  \\\n",
       "0    fire alarm          brandmelding           fire alarm          external   \n",
       "1  repair works  herstelwerkzaamheden         repair works  engineering work   \n",
       "2    fire alarm          brandmelding           fire alarm          external   \n",
       "\n",
       "           start_time            end_time  duration_minutes  \n",
       "0 2022-01-01 05:45:33 2022-01-01 06:34:58                49  \n",
       "1 2022-01-01 06:23:54 2022-01-01 13:59:14               455  \n",
       "2 2022-01-01 06:33:40 2022-01-01 06:34:27                 1  "
      ],
      "text/html": [
       "<div>\n",
       "<style scoped>\n",
       "    .dataframe tbody tr th:only-of-type {\n",
       "        vertical-align: middle;\n",
       "    }\n",
       "\n",
       "    .dataframe tbody tr th {\n",
       "        vertical-align: top;\n",
       "    }\n",
       "\n",
       "    .dataframe thead th {\n",
       "        text-align: right;\n",
       "    }\n",
       "</style>\n",
       "<table border=\"1\" class=\"dataframe\">\n",
       "  <thead>\n",
       "    <tr style=\"text-align: right;\">\n",
       "      <th></th>\n",
       "      <th>rdt_id</th>\n",
       "      <th>ns_lines</th>\n",
       "      <th>rdt_lines</th>\n",
       "      <th>rdt_lines_id</th>\n",
       "      <th>rdt_station_names</th>\n",
       "      <th>rdt_station_codes</th>\n",
       "      <th>cause_nl</th>\n",
       "      <th>cause_en</th>\n",
       "      <th>statistical_cause_nl</th>\n",
       "      <th>statistical_cause_en</th>\n",
       "      <th>cause_group</th>\n",
       "      <th>start_time</th>\n",
       "      <th>end_time</th>\n",
       "      <th>duration_minutes</th>\n",
       "    </tr>\n",
       "  </thead>\n",
       "  <tbody>\n",
       "    <tr>\n",
       "      <th>0</th>\n",
       "      <td>40500</td>\n",
       "      <td>Den Haag-Rotterdam; Leiden-Rotterdam</td>\n",
       "      <td>Den Haag HS - Rotterdam Centraal</td>\n",
       "      <td>11</td>\n",
       "      <td>Delft,Delft Campus,Den Haag HS,Den Haag Moerwi...</td>\n",
       "      <td>DT, DTCP, GV, GVMW, RSW</td>\n",
       "      <td>brandmelding</td>\n",
       "      <td>fire alarm</td>\n",
       "      <td>brandmelding</td>\n",
       "      <td>fire alarm</td>\n",
       "      <td>external</td>\n",
       "      <td>2022-01-01 05:45:33</td>\n",
       "      <td>2022-01-01 06:34:58</td>\n",
       "      <td>49</td>\n",
       "    </tr>\n",
       "    <tr>\n",
       "      <th>1</th>\n",
       "      <td>40501</td>\n",
       "      <td>Amsterdam-Utrecht; Utrecht-Eindhoven</td>\n",
       "      <td>'s-Hertogenbosch - Utrecht Centraal, Amsterdam...</td>\n",
       "      <td>136,151</td>\n",
       "      <td>Abcoude,Amsterdam Amstel,Amsterdam Bijlmer Are...</td>\n",
       "      <td>AC, ASA, ASB, ASD, ASDM, ASHD, BKL, CL, DVD, G...</td>\n",
       "      <td>herstelwerkzaamheden</td>\n",
       "      <td>repair works</td>\n",
       "      <td>herstelwerkzaamheden</td>\n",
       "      <td>repair works</td>\n",
       "      <td>engineering work</td>\n",
       "      <td>2022-01-01 06:23:54</td>\n",
       "      <td>2022-01-01 13:59:14</td>\n",
       "      <td>455</td>\n",
       "    </tr>\n",
       "    <tr>\n",
       "      <th>2</th>\n",
       "      <td>40502</td>\n",
       "      <td>Schiphol-Rotterdam (HSL)</td>\n",
       "      <td>Rotterdam Centraal - Schiphol Airport (HSL)</td>\n",
       "      <td>24</td>\n",
       "      <td>Rotterdam Centraal,Schiphol Airport</td>\n",
       "      <td>RTD, SHL</td>\n",
       "      <td>brandmelding</td>\n",
       "      <td>fire alarm</td>\n",
       "      <td>brandmelding</td>\n",
       "      <td>fire alarm</td>\n",
       "      <td>external</td>\n",
       "      <td>2022-01-01 06:33:40</td>\n",
       "      <td>2022-01-01 06:34:27</td>\n",
       "      <td>1</td>\n",
       "    </tr>\n",
       "  </tbody>\n",
       "</table>\n",
       "</div>"
      ]
     },
     "execution_count": 21,
     "metadata": {},
     "output_type": "execute_result"
    }
   ],
   "execution_count": 21
  },
  {
   "metadata": {},
   "cell_type": "markdown",
   "source": "# 5.",
   "id": "18dd4b0a5d23e082"
  },
  {
   "metadata": {
    "ExecuteTime": {
     "end_time": "2025-10-25T08:57:11.942934Z",
     "start_time": "2025-10-25T08:56:50.278446Z"
    }
   },
   "cell_type": "code",
   "source": "db.sql(\"COPY (FROM 'data/services-20*.csv') TO 'data/services.parquet' (FORMAT PARQUET, CODEC ZSTD);\")",
   "id": "4317dd2e1ac8db35",
   "outputs": [
    {
     "data": {
      "text/plain": [
       "FloatProgress(value=0.0, layout=Layout(width='auto'), style=ProgressStyle(bar_color='black'))"
      ],
      "application/vnd.jupyter.widget-view+json": {
       "version_major": 2,
       "version_minor": 0,
       "model_id": "e209d021aae044c38c1879fddab09d90"
      }
     },
     "metadata": {},
     "output_type": "display_data",
     "jetTransient": {
      "display_id": null
     }
    }
   ],
   "execution_count": 22
  },
  {
   "metadata": {
    "ExecuteTime": {
     "end_time": "2025-10-25T08:57:11.973123Z",
     "start_time": "2025-10-25T08:57:11.947727Z"
    }
   },
   "cell_type": "code",
   "source": [
    "db.sql(\"\"\"\n",
    "CREATE TABLE IF NOT EXISTS services AS\n",
    "FROM 'data/services.parquet'\n",
    "\"\"\")"
   ],
   "id": "4a54985d7eb31a9d",
   "outputs": [],
   "execution_count": 23
  },
  {
   "metadata": {},
   "cell_type": "markdown",
   "source": "# 6. Six was a lie!",
   "id": "54177e277813e271"
  },
  {
   "metadata": {},
   "cell_type": "markdown",
   "source": "# 7.",
   "id": "4dc000b27bdba119"
  },
  {
   "metadata": {
    "ExecuteTime": {
     "end_time": "2025-10-25T08:57:12.374336Z",
     "start_time": "2025-10-25T08:57:11.993857Z"
    }
   },
   "cell_type": "code",
   "source": [
    "db.sql(\"\"\"\n",
    "SELECT COUNT(*) FROM services\n",
    "WHERE \"Stop:Departure cancelled\" = 'false' AND \"Stop:Departure time\" IS NOT NULL AND \"Stop:Station name\" = 'Amsterdam Centraal'\n",
    "\"\"\")"
   ],
   "id": "bca83a1c704f8008",
   "outputs": [
    {
     "data": {
      "text/plain": [
       "┌──────────────┐\n",
       "│ count_star() │\n",
       "│    int64     │\n",
       "├──────────────┤\n",
       "│      1735131 │\n",
       "└──────────────┘"
      ]
     },
     "execution_count": 24,
     "metadata": {},
     "output_type": "execute_result"
    }
   ],
   "execution_count": 24
  },
  {
   "metadata": {
    "ExecuteTime": {
     "end_time": "2025-10-25T08:57:12.458741Z",
     "start_time": "2025-10-25T08:57:12.380721Z"
    }
   },
   "cell_type": "code",
   "source": [
    "db.sql(\"\"\"\n",
    "SELECT \"Service:Type\",\n",
    "       AVG(\"Stop:Arrival delay\") AS avg_arrival_delay\n",
    "FROM services\n",
    "WHERE \"Stop:Arrival delay\" IS NOT NULL\n",
    "GROUP BY \"Service:Type\"\n",
    "ORDER BY avg_arrival_delay DESC\n",
    "\"\"\")"
   ],
   "id": "981529aa2ff2d7e2",
   "outputs": [
    {
     "data": {
      "text/plain": [
       "┌──────────────────────┬────────────────────┐\n",
       "│     Service:Type     │ avg_arrival_delay  │\n",
       "│       varchar        │       double       │\n",
       "├──────────────────────┼────────────────────┤\n",
       "│ Alpen Express        │  31.84254143646409 │\n",
       "│ Krokus Express       │ 18.304347826086957 │\n",
       "│ European Sleeper     │ 14.730917608156517 │\n",
       "│ Nightjet             │  9.256974238121135 │\n",
       "│ Eurostar             │  7.221416941972401 │\n",
       "│ ICE International    │  5.482790573052148 │\n",
       "│ Thalys               │ 5.3961896909446025 │\n",
       "│ Int. Trein           │ 4.9727022780832675 │\n",
       "│ Nachttrein           │ 3.7960975609756096 │\n",
       "│ Stoomtrein           │  3.366863905325444 │\n",
       "│     ·                │                 ·  │\n",
       "│     ·                │                 ·  │\n",
       "│     ·                │                 ·  │\n",
       "│ Taxibus ipv trein    │                0.0 │\n",
       "│ Bus                  │                0.0 │\n",
       "│ Belbus               │                0.0 │\n",
       "│ Metro                │                0.0 │\n",
       "│ stoptrein            │                0.0 │\n",
       "│ Tram i.p.v. trein    │                0.0 │\n",
       "│ Niet instappen       │                0.0 │\n",
       "│ Metro i.p.v. trein   │                0.0 │\n",
       "│ Snelbus i.p.v. trein │                0.0 │\n",
       "│ Metro ipv trein      │                0.0 │\n",
       "├──────────────────────┴────────────────────┤\n",
       "│ 38 rows (20 shown)              2 columns │\n",
       "└───────────────────────────────────────────┘"
      ]
     },
     "execution_count": 25,
     "metadata": {},
     "output_type": "execute_result"
    }
   ],
   "execution_count": 25
  },
  {
   "metadata": {
    "ExecuteTime": {
     "end_time": "2025-10-25T08:57:12.501812Z",
     "start_time": "2025-10-25T08:57:12.465260Z"
    }
   },
   "cell_type": "code",
   "source": [
    "db.sql(\"\"\"\n",
    "SELECT MODE(\"cause_en\")AS cause_en,\n",
    "       YEAR(\"start_time\") AS year\n",
    "FROM postgres_db.disruptions\n",
    "GROUP BY YEAR(\"start_time\")\n",
    "\"\"\")"
   ],
   "id": "b5ab67386325bacc",
   "outputs": [
    {
     "data": {
      "text/plain": [
       "┌───────────────────┬───────┐\n",
       "│     cause_en      │ year  │\n",
       "│      varchar      │ int64 │\n",
       "├───────────────────┼───────┤\n",
       "│ broken down train │  2016 │\n",
       "│ broken down train │  2020 │\n",
       "│ points failure    │  2012 │\n",
       "│ broken down train │  2011 │\n",
       "│ broken down train │  2021 │\n",
       "│ broken down train │  2018 │\n",
       "│ broken down train │  2014 │\n",
       "│ broken down train │  2019 │\n",
       "│ points failure    │  2013 │\n",
       "│ broken down train │  2017 │\n",
       "│ broken down train │  2022 │\n",
       "│ broken down train │  2023 │\n",
       "│ broken down train │  2015 │\n",
       "├───────────────────┴───────┤\n",
       "│ 13 rows         2 columns │\n",
       "└───────────────────────────┘"
      ]
     },
     "execution_count": 26,
     "metadata": {},
     "output_type": "execute_result"
    }
   ],
   "execution_count": 26
  },
  {
   "metadata": {
    "ExecuteTime": {
     "end_time": "2025-10-25T08:57:12.637560Z",
     "start_time": "2025-10-25T08:57:12.515380Z"
    }
   },
   "cell_type": "code",
   "source": [
    "db.sql(\"\"\"\n",
    "SELECT COUNT(*) FROM services\n",
    "WHERE \"Stop:Departure cancelled\" = 'false' AND \"Stop:Arrival time\" IS NULL AND \"Stop:Station name\" LIKE '%Amsterdam%'\n",
    "\"\"\")"
   ],
   "id": "78bd4879971e21f1",
   "outputs": [
    {
     "data": {
      "text/plain": [
       "┌──────────────┐\n",
       "│ count_star() │\n",
       "│    int64     │\n",
       "├──────────────┤\n",
       "│      1142042 │\n",
       "└──────────────┘"
      ]
     },
     "execution_count": 27,
     "metadata": {},
     "output_type": "execute_result"
    }
   ],
   "execution_count": 27
  },
  {
   "metadata": {
    "ExecuteTime": {
     "end_time": "2025-10-25T08:57:12.728578Z",
     "start_time": "2025-10-25T08:57:12.644010Z"
    }
   },
   "cell_type": "code",
   "source": [
    "db.sql(\"\"\"\n",
    "SELECT (\n",
    "    SELECT COUNT(*)\n",
    "    FROM services\n",
    "\n",
    "    INNER JOIN stations\n",
    "    ON services.\"Stop:Station code\" = stations.code\n",
    "\n",
    "\n",
    "    WHERE \"Stop:Arrival cancelled\" = 'false' AND \"Stop:Departure time\" IS NULL AND stations.country\t != 'NL'\n",
    "    ) / COUNT(*) AS fraction_of_services_final_destination_outside_netherlands\n",
    "FROM services\n",
    "\"\"\")"
   ],
   "id": "8b0b08fd2bd1ea3a",
   "outputs": [
    {
     "data": {
      "text/plain": [
       "┌────────────────────────────────────────────────────────────┐\n",
       "│ fraction_of_services_final_destination_outside_netherlands │\n",
       "│                           double                           │\n",
       "├────────────────────────────────────────────────────────────┤\n",
       "│                                      0.0038246043730004093 │\n",
       "└────────────────────────────────────────────────────────────┘"
      ]
     },
     "execution_count": 28,
     "metadata": {},
     "output_type": "execute_result"
    }
   ],
   "execution_count": 28
  },
  {
   "metadata": {
    "ExecuteTime": {
     "end_time": "2025-10-25T08:57:12.741991Z",
     "start_time": "2025-10-25T08:57:12.734811Z"
    }
   },
   "cell_type": "code",
   "source": [
    "db.sql(\"\"\"\n",
    "SELECT\n",
    "    s1.name_long AS station1,\n",
    "    s2.name_long AS station2,\n",
    "    distances_long.distance\n",
    "FROM distances_long\n",
    "JOIN stations s1 ON distances_long.station = s1.code\n",
    "JOIN stations s2 ON distances_long.other_station = s2.code\n",
    "WHERE s1.country = 'NL'\n",
    "  AND s2.country = 'NL'\n",
    "  AND station < other_station\n",
    "ORDER BY distance DESC\n",
    "LIMIT 1;\n",
    "\"\"\")"
   ],
   "id": "ee914151092c5b71",
   "outputs": [
    {
     "data": {
      "text/plain": [
       "┌───────────┬────────────┬──────────┐\n",
       "│ station1  │  station2  │ distance │\n",
       "│  varchar  │  varchar   │  int64   │\n",
       "├───────────┼────────────┼──────────┤\n",
       "│ Eemshaven │ Vlissingen │      426 │\n",
       "└───────────┴────────────┴──────────┘"
      ]
     },
     "execution_count": 29,
     "metadata": {},
     "output_type": "execute_result"
    }
   ],
   "execution_count": 29
  },
  {
   "metadata": {
    "ExecuteTime": {
     "end_time": "2025-10-25T08:57:12.828769Z",
     "start_time": "2025-10-25T08:57:12.780262Z"
    }
   },
   "cell_type": "code",
   "source": [
    "company_avg_delay = db.sql(\"\"\"\n",
    "SELECT \"Service:Company\",\n",
    "       AVG(\"Stop:Arrival delay\") AS avg_delay\n",
    "FROM services\n",
    "GROUP BY \"Service:Company\"\n",
    "ORDER BY avg_delay DESC\n",
    "\"\"\").df()"
   ],
   "id": "62263feeecfd4010",
   "outputs": [],
   "execution_count": 30
  },
  {
   "metadata": {
    "ExecuteTime": {
     "end_time": "2025-10-25T08:57:13.139854Z",
     "start_time": "2025-10-25T08:57:12.838596Z"
    }
   },
   "cell_type": "code",
   "source": [
    "import matplotlib.pyplot as plt\n",
    "\n",
    "df_sorted = company_avg_delay.sort_values(by=\"avg_delay\", ascending=False)\n",
    "\n",
    "companies = df_sorted[\"Service:Company\"]\n",
    "avg_delays = df_sorted[\"avg_delay\"]\n",
    "\n",
    "plt.figure(figsize=(10, 6))\n",
    "\n",
    "plt.bar(\n",
    "    companies,\n",
    "    avg_delays,\n",
    "    color='skyblue'\n",
    ")\n",
    "\n",
    "plt.title(\"Average Arrival Delay by Train Operator\", fontsize=16)\n",
    "plt.xlabel(\"Train Operator (Service:Company)\", fontsize=12)\n",
    "plt.ylabel(\"Average Delay (Minutes)\", fontsize=12)\n",
    "\n",
    "plt.xticks(rotation=45, ha='right')\n",
    "plt.grid(axis='y', linestyle='--', alpha=0.7)\n",
    "plt.tight_layout()\n",
    "plt.show()"
   ],
   "id": "37e683de533df693",
   "outputs": [
    {
     "data": {
      "text/plain": [
       "<Figure size 1000x600 with 1 Axes>"
      ],
      "image/png": "[encoded data removed]"
     },
     "metadata": {},
     "output_type": "display_data",
     "jetTransient": {
      "display_id": null
     }
    }
   ],
   "execution_count": 31
  },
  {
   "metadata": {
    "ExecuteTime": {
     "end_time": "2025-10-25T08:57:13.148490Z",
     "start_time": "2025-10-25T08:57:13.147209Z"
    }
   },
   "cell_type": "code",
   "source": "",
   "id": "aeaf5489e87a8e18",
   "outputs": [],
   "execution_count": null
  },
  {
   "metadata": {
    "ExecuteTime": {
     "end_time": "2025-10-25T08:57:13.222643Z",
     "start_time": "2025-10-25T08:57:13.190918Z"
    }
   },
   "cell_type": "code",
   "source": [
    "disruptions_by_year = db.sql(\"\"\"\n",
    "SELECT COUNT(*) AS disruptions_number,\n",
    "       YEAR(\"start_time\") AS year\n",
    "FROM postgres_db.disruptions\n",
    "GROUP BY year\n",
    "ORDER BY year ASC\n",
    "\"\"\").df()"
   ],
   "id": "f0a34a8cb8bd7d74",
   "outputs": [],
   "execution_count": 32
  },
  {
   "metadata": {
    "ExecuteTime": {
     "end_time": "2025-10-25T08:57:13.296800Z",
     "start_time": "2025-10-25T08:57:13.238583Z"
    }
   },
   "cell_type": "code",
   "source": [
    "disruptions_by_year.plot.line(\n",
    "    x=\"year\", y=\"disruptions_number\", title=\"Number of disruptions by year\"\n",
    ")"
   ],
   "id": "19d2ee2e858c39af",
   "outputs": [
    {
     "data": {
      "text/plain": [
       "<Axes: title={'center': 'Number of disruptions by year'}, xlabel='year'>"
      ]
     },
     "execution_count": 33,
     "metadata": {},
     "output_type": "execute_result"
    },
    {
     "data": {
      "text/plain": [
       "<Figure size 640x480 with 1 Axes>"
      ],
      "image/png": "[encoded data removed]"
     },
     "metadata": {},
     "output_type": "display_data",
     "jetTransient": {
      "display_id": null
     }
    }
   ],
   "execution_count": 33
  },
  {
   "metadata": {
    "ExecuteTime": {
     "end_time": "2025-10-25T08:57:13.354023Z",
     "start_time": "2025-10-25T08:57:13.303157Z"
    }
   },
   "cell_type": "code",
   "source": [
    "fraction_services_canceled_per_year = db.sql(\"\"\"\n",
    "SELECT\n",
    "  YEAR(\"Service:Date\") AS year,\n",
    "  SUM(CASE WHEN \"Service:Completely cancelled\" = 'true' THEN 1 ELSE 0 END) * 1.0 /\n",
    "  COUNT(*) AS cancel_fraction\n",
    "FROM services\n",
    "GROUP BY YEAR(\"Service:Date\")\n",
    "ORDER BY year ASC\n",
    "\"\"\").df()"
   ],
   "id": "bb5f7057d073a2bf",
   "outputs": [],
   "execution_count": 34
  },
  {
   "metadata": {
    "ExecuteTime": {
     "end_time": "2025-10-25T08:57:13.411126Z",
     "start_time": "2025-10-25T08:57:13.359448Z"
    }
   },
   "cell_type": "code",
   "source": [
    "fraction_services_canceled_per_year.plot.line(\n",
    "    x=\"year\", y=\"cancel_fraction\", title=\"Fraction of services canceled each year\"\n",
    ")"
   ],
   "id": "dd428dc0cb599c95",
   "outputs": [
    {
     "data": {
      "text/plain": [
       "<Axes: title={'center': 'Fraction of services canceled each year'}, xlabel='year'>"
      ]
     },
     "execution_count": 35,
     "metadata": {},
     "output_type": "execute_result"
    },
    {
     "data": {
      "text/plain": [
       "<Figure size 640x480 with 1 Axes>"
      ],
      "image/png": "[encoded data removed]"
     },
     "metadata": {},
     "output_type": "display_data",
     "jetTransient": {
      "display_id": null
     }
    }
   ],
   "execution_count": 35
  },
  {
   "metadata": {},
   "cell_type": "markdown",
   "source": "# 8.",
   "id": "b05250f6cf1d568"
  },
  {
   "metadata": {},
   "cell_type": "markdown",
   "source": "I don't know how to fix issue shown below, where the same train has its start_station in TWO PLACES AT THE SAME TIME. I am just gonna ignore it and hope to get an answer in feedback.pdf",
   "id": "3777d8d6fc9fb7a8"
  },
  {
   "metadata": {
    "ExecuteTime": {
     "end_time": "2025-10-25T09:47:22.658016Z",
     "start_time": "2025-10-25T09:47:22.640295Z"
    }
   },
   "cell_type": "code",
   "source": [
    "db.sql(\"\"\"\n",
    "SELECT (*) FROM services\n",
    "WHERE \"Service:RDT-ID\" = 12150120\n",
    "ORDER BY \"Stop:Departure Time\" ASC, \"Stop:Arrival time\" ASC\n",
    "LIMIT 15\n",
    "\"\"\").df()"
   ],
   "id": "94d50004d50bf660",
   "outputs": [
    {
     "data": {
      "text/plain": [
       "   Service:RDT-ID Service:Date       Service:Type Service:Company  \\\n",
       "0        12150120   2023-10-07  Stopbus ipv trein          Arriva   \n",
       "1        12150120   2023-10-07  Stopbus ipv trein          Arriva   \n",
       "2        12150120   2023-10-07  Stopbus ipv trein          Arriva   \n",
       "3        12150120   2023-10-07  Stopbus ipv trein          Arriva   \n",
       "4        12150120   2023-10-07  Stopbus ipv trein          Arriva   \n",
       "5        12150120   2023-10-07  Stopbus ipv trein          Arriva   \n",
       "6        12150120   2023-10-07  Stopbus ipv trein          Arriva   \n",
       "7        12150120   2023-10-07  Stopbus ipv trein          Arriva   \n",
       "\n",
       "   Service:Train number  Service:Completely cancelled  \\\n",
       "0                945002                         False   \n",
       "1                945002                         False   \n",
       "2                945002                         False   \n",
       "3                945002                         False   \n",
       "4                945002                         False   \n",
       "5                945002                         False   \n",
       "6                945002                         False   \n",
       "7                945002                         False   \n",
       "\n",
       "   Service:Partly cancelled  Service:Maximum delay  Stop:RDT-ID  \\\n",
       "0                     False                      0    109426692   \n",
       "1                     False                      0    109429756   \n",
       "2                     False                      0    109426693   \n",
       "3                     False                      0    109426694   \n",
       "4                     False                      0    109426695   \n",
       "5                     False                      0    109426696   \n",
       "6                     False                      0    109426697   \n",
       "7                     False                      0    109426698   \n",
       "\n",
       "  Stop:Station code Stop:Station name         Stop:Arrival time  \\\n",
       "0               STD           Sittard                       NaT   \n",
       "1                ST             Soest                       NaT   \n",
       "2               GLN       Geleen Oost 2023-10-07 17:29:00+02:00   \n",
       "3               SBK          Spaubeek 2023-10-07 17:36:00+02:00   \n",
       "4                SN          Schinnen 2023-10-07 17:45:00+02:00   \n",
       "5                NH              Nuth 2023-10-07 17:49:00+02:00   \n",
       "6                HB        Hoensbroek 2023-10-07 17:57:00+02:00   \n",
       "7               HRL           Heerlen 2023-10-07 18:05:00+02:00   \n",
       "\n",
       "   Stop:Arrival delay  Stop:Arrival cancelled       Stop:Departure time  \\\n",
       "0                <NA>                    <NA> 2023-10-07 17:20:00+02:00   \n",
       "1                <NA>                    <NA> 2023-10-07 17:20:00+02:00   \n",
       "2                   0                   False 2023-10-07 17:29:00+02:00   \n",
       "3                   0                   False 2023-10-07 17:36:00+02:00   \n",
       "4                   0                   False 2023-10-07 17:45:00+02:00   \n",
       "5                   0                   False 2023-10-07 17:49:00+02:00   \n",
       "6                   0                   False 2023-10-07 17:57:00+02:00   \n",
       "7                   0                   False                       NaT   \n",
       "\n",
       "   Stop:Departure delay  Stop:Departure cancelled  Stop:Platform change  \\\n",
       "0                     0                     False                 False   \n",
       "1                     0                     False                 False   \n",
       "2                     0                     False                 False   \n",
       "3                     0                     False                 False   \n",
       "4                     0                     False                 False   \n",
       "5                     0                     False                 False   \n",
       "6                     0                     False                 False   \n",
       "7                  <NA>                      <NA>                 False   \n",
       "\n",
       "  Stop:Planned platform Stop:Actual platform  \n",
       "0                  None                 None  \n",
       "1                  None                 None  \n",
       "2                  None                 None  \n",
       "3                  None                 None  \n",
       "4                  None                 None  \n",
       "5                  None                 None  \n",
       "6                  None                 None  \n",
       "7                  None                 None  "
      ],
      "text/html": [
       "<div>\n",
       "<style scoped>\n",
       "    .dataframe tbody tr th:only-of-type {\n",
       "        vertical-align: middle;\n",
       "    }\n",
       "\n",
       "    .dataframe tbody tr th {\n",
       "        vertical-align: top;\n",
       "    }\n",
       "\n",
       "    .dataframe thead th {\n",
       "        text-align: right;\n",
       "    }\n",
       "</style>\n",
       "<table border=\"1\" class=\"dataframe\">\n",
       "  <thead>\n",
       "    <tr style=\"text-align: right;\">\n",
       "      <th></th>\n",
       "      <th>Service:RDT-ID</th>\n",
       "      <th>Service:Date</th>\n",
       "      <th>Service:Type</th>\n",
       "      <th>Service:Company</th>\n",
       "      <th>Service:Train number</th>\n",
       "      <th>Service:Completely cancelled</th>\n",
       "      <th>Service:Partly cancelled</th>\n",
       "      <th>Service:Maximum delay</th>\n",
       "      <th>Stop:RDT-ID</th>\n",
       "      <th>Stop:Station code</th>\n",
       "      <th>Stop:Station name</th>\n",
       "      <th>Stop:Arrival time</th>\n",
       "      <th>Stop:Arrival delay</th>\n",
       "      <th>Stop:Arrival cancelled</th>\n",
       "      <th>Stop:Departure time</th>\n",
       "      <th>Stop:Departure delay</th>\n",
       "      <th>Stop:Departure cancelled</th>\n",
       "      <th>Stop:Platform change</th>\n",
       "      <th>Stop:Planned platform</th>\n",
       "      <th>Stop:Actual platform</th>\n",
       "    </tr>\n",
       "  </thead>\n",
       "  <tbody>\n",
       "    <tr>\n",
       "      <th>0</th>\n",
       "      <td>12150120</td>\n",
       "      <td>2023-10-07</td>\n",
       "      <td>Stopbus ipv trein</td>\n",
       "      <td>Arriva</td>\n",
       "      <td>945002</td>\n",
       "      <td>False</td>\n",
       "      <td>False</td>\n",
       "      <td>0</td>\n",
       "      <td>109426692</td>\n",
       "      <td>STD</td>\n",
       "      <td>Sittard</td>\n",
       "      <td>NaT</td>\n",
       "      <td>&lt;NA&gt;</td>\n",
       "      <td>&lt;NA&gt;</td>\n",
       "      <td>2023-10-07 17:20:00+02:00</td>\n",
       "      <td>0</td>\n",
       "      <td>False</td>\n",
       "      <td>False</td>\n",
       "      <td>None</td>\n",
       "      <td>None</td>\n",
       "    </tr>\n",
       "    <tr>\n",
       "      <th>1</th>\n",
       "      <td>12150120</td>\n",
       "      <td>2023-10-07</td>\n",
       "      <td>Stopbus ipv trein</td>\n",
       "      <td>Arriva</td>\n",
       "      <td>945002</td>\n",
       "      <td>False</td>\n",
       "      <td>False</td>\n",
       "      <td>0</td>\n",
       "      <td>109429756</td>\n",
       "      <td>ST</td>\n",
       "      <td>Soest</td>\n",
       "      <td>NaT</td>\n",
       "      <td>&lt;NA&gt;</td>\n",
       "      <td>&lt;NA&gt;</td>\n",
       "      <td>2023-10-07 17:20:00+02:00</td>\n",
       "      <td>0</td>\n",
       "      <td>False</td>\n",
       "      <td>False</td>\n",
       "      <td>None</td>\n",
       "      <td>None</td>\n",
       "    </tr>\n",
       "    <tr>\n",
       "      <th>2</th>\n",
       "      <td>12150120</td>\n",
       "      <td>2023-10-07</td>\n",
       "      <td>Stopbus ipv trein</td>\n",
       "      <td>Arriva</td>\n",
       "      <td>945002</td>\n",
       "      <td>False</td>\n",
       "      <td>False</td>\n",
       "      <td>0</td>\n",
       "      <td>109426693</td>\n",
       "      <td>GLN</td>\n",
       "      <td>Geleen Oost</td>\n",
       "      <td>2023-10-07 17:29:00+02:00</td>\n",
       "      <td>0</td>\n",
       "      <td>False</td>\n",
       "      <td>2023-10-07 17:29:00+02:00</td>\n",
       "      <td>0</td>\n",
       "      <td>False</td>\n",
       "      <td>False</td>\n",
       "      <td>None</td>\n",
       "      <td>None</td>\n",
       "    </tr>\n",
       "    <tr>\n",
       "      <th>3</th>\n",
       "      <td>12150120</td>\n",
       "      <td>2023-10-07</td>\n",
       "      <td>Stopbus ipv trein</td>\n",
       "      <td>Arriva</td>\n",
       "      <td>945002</td>\n",
       "      <td>False</td>\n",
       "      <td>False</td>\n",
       "      <td>0</td>\n",
       "      <td>109426694</td>\n",
       "      <td>SBK</td>\n",
       "      <td>Spaubeek</td>\n",
       "      <td>2023-10-07 17:36:00+02:00</td>\n",
       "      <td>0</td>\n",
       "      <td>False</td>\n",
       "      <td>2023-10-07 17:36:00+02:00</td>\n",
       "      <td>0</td>\n",
       "      <td>False</td>\n",
       "      <td>False</td>\n",
       "      <td>None</td>\n",
       "      <td>None</td>\n",
       "    </tr>\n",
       "    <tr>\n",
       "      <th>4</th>\n",
       "      <td>12150120</td>\n",
       "      <td>2023-10-07</td>\n",
       "      <td>Stopbus ipv trein</td>\n",
       "      <td>Arriva</td>\n",
       "      <td>945002</td>\n",
       "      <td>False</td>\n",
       "      <td>False</td>\n",
       "      <td>0</td>\n",
       "      <td>109426695</td>\n",
       "      <td>SN</td>\n",
       "      <td>Schinnen</td>\n",
       "      <td>2023-10-07 17:45:00+02:00</td>\n",
       "      <td>0</td>\n",
       "      <td>False</td>\n",
       "      <td>2023-10-07 17:45:00+02:00</td>\n",
       "      <td>0</td>\n",
       "      <td>False</td>\n",
       "      <td>False</td>\n",
       "      <td>None</td>\n",
       "      <td>None</td>\n",
       "    </tr>\n",
       "    <tr>\n",
       "      <th>5</th>\n",
       "      <td>12150120</td>\n",
       "      <td>2023-10-07</td>\n",
       "      <td>Stopbus ipv trein</td>\n",
       "      <td>Arriva</td>\n",
       "      <td>945002</td>\n",
       "      <td>False</td>\n",
       "      <td>False</td>\n",
       "      <td>0</td>\n",
       "      <td>109426696</td>\n",
       "      <td>NH</td>\n",
       "      <td>Nuth</td>\n",
       "      <td>2023-10-07 17:49:00+02:00</td>\n",
       "      <td>0</td>\n",
       "      <td>False</td>\n",
       "      <td>2023-10-07 17:49:00+02:00</td>\n",
       "      <td>0</td>\n",
       "      <td>False</td>\n",
       "      <td>False</td>\n",
       "      <td>None</td>\n",
       "      <td>None</td>\n",
       "    </tr>\n",
       "    <tr>\n",
       "      <th>6</th>\n",
       "      <td>12150120</td>\n",
       "      <td>2023-10-07</td>\n",
       "      <td>Stopbus ipv trein</td>\n",
       "      <td>Arriva</td>\n",
       "      <td>945002</td>\n",
       "      <td>False</td>\n",
       "      <td>False</td>\n",
       "      <td>0</td>\n",
       "      <td>109426697</td>\n",
       "      <td>HB</td>\n",
       "      <td>Hoensbroek</td>\n",
       "      <td>2023-10-07 17:57:00+02:00</td>\n",
       "      <td>0</td>\n",
       "      <td>False</td>\n",
       "      <td>2023-10-07 17:57:00+02:00</td>\n",
       "      <td>0</td>\n",
       "      <td>False</td>\n",
       "      <td>False</td>\n",
       "      <td>None</td>\n",
       "      <td>None</td>\n",
       "    </tr>\n",
       "    <tr>\n",
       "      <th>7</th>\n",
       "      <td>12150120</td>\n",
       "      <td>2023-10-07</td>\n",
       "      <td>Stopbus ipv trein</td>\n",
       "      <td>Arriva</td>\n",
       "      <td>945002</td>\n",
       "      <td>False</td>\n",
       "      <td>False</td>\n",
       "      <td>0</td>\n",
       "      <td>109426698</td>\n",
       "      <td>HRL</td>\n",
       "      <td>Heerlen</td>\n",
       "      <td>2023-10-07 18:05:00+02:00</td>\n",
       "      <td>0</td>\n",
       "      <td>False</td>\n",
       "      <td>NaT</td>\n",
       "      <td>&lt;NA&gt;</td>\n",
       "      <td>&lt;NA&gt;</td>\n",
       "      <td>False</td>\n",
       "      <td>None</td>\n",
       "      <td>None</td>\n",
       "    </tr>\n",
       "  </tbody>\n",
       "</table>\n",
       "</div>"
      ]
     },
     "execution_count": 65,
     "metadata": {},
     "output_type": "execute_result"
    }
   ],
   "execution_count": 65
  },
  {
   "metadata": {
    "ExecuteTime": {
     "end_time": "2025-10-25T11:04:40.043792Z",
     "start_time": "2025-10-25T11:04:37.587182Z"
    }
   },
   "cell_type": "code",
   "source": [
    "db.sql(\"\"\"\n",
    "CREATE TABLE IF NOT EXISTS station_connections AS\n",
    "WITH start_stops AS (\n",
    "    SELECT\n",
    "        \"Service:RDT-ID\",\n",
    "        \"Stop:Station code\" AS start_station_code\n",
    "    FROM services\n",
    "    WHERE \"Service:Completely cancelled\" != 'true' AND \"Stop:Arrival time\" IS NULL AND \"Stop:Departure time\" IS NOT NULL AND \"Stop:Departure cancelled\" != 'true'\n",
    "    QUALIFY \"Stop:Departure time\" = MIN(\"Stop:Departure time\")\n",
    "        OVER (PARTITION BY \"Service:RDT-ID\")\n",
    "),\n",
    "final_stops AS (\n",
    "    SELECT\n",
    "        \"Service:RDT-ID\",\n",
    "        \"Stop:Station code\" AS end_station_code\n",
    "    FROM services\n",
    "    WHERE \"Service:Completely cancelled\" != 'true' AND \"Stop:Departure time\" IS NULL AND \"Stop:Arrival time\" IS NOT NULL AND \"Stop:Arrival cancelled\" != 'true'\n",
    "    QUALIFY \"Stop:Arrival time\" = MAX(\"Stop:Arrival time\")\n",
    "        OVER (PARTITION BY \"Service:RDT-ID\")\n",
    ")\n",
    "SELECT\n",
    "    s.\"Service:RDT-ID\",\n",
    "    s.start_station_code,\n",
    "    f.end_station_code,\n",
    "    d.distance\n",
    "FROM start_stops s\n",
    "JOIN final_stops f\n",
    "    ON s.\"Service:RDT-ID\" = f.\"Service:RDT-ID\"\n",
    "JOIN distances_long d\n",
    "    ON s.start_station_code = d.Station AND f.end_station_code = d.other_station\n",
    "ORDER BY s.\"Service:RDT-ID\"\n",
    "\"\"\")"
   ],
   "id": "ef299c357ebe96f3",
   "outputs": [],
   "execution_count": 82
  },
  {
   "metadata": {
    "ExecuteTime": {
     "end_time": "2025-10-25T11:13:54.892910Z",
     "start_time": "2025-10-25T11:13:54.887131Z"
    }
   },
   "cell_type": "code",
   "source": [
    "db.sql(\"\"\"\n",
    "SELECT (*)\n",
    "FROM station_connections\n",
    "ORDER BY distance DESC\n",
    "LIMIT 1\n",
    "\"\"\")"
   ],
   "id": "d8b6ecaf601b0765",
   "outputs": [
    {
     "data": {
      "text/plain": [
       "┌────────────────┬────────────────────┬──────────────────┬──────────┐\n",
       "│ Service:RDT-ID │ start_station_code │ end_station_code │ distance │\n",
       "│     int64      │      varchar       │     varchar      │  int64   │\n",
       "├────────────────┼────────────────────┼──────────────────┼──────────┤\n",
       "│        7122512 │ GS                 │ STV              │      396 │\n",
       "└────────────────┴────────────────────┴──────────────────┴──────────┘"
      ]
     },
     "execution_count": 95,
     "metadata": {},
     "output_type": "execute_result"
    }
   ],
   "execution_count": 95
  },
  {
   "metadata": {
    "ExecuteTime": {
     "end_time": "2025-10-25T11:14:45.861275Z",
     "start_time": "2025-10-25T11:14:44.673561Z"
    }
   },
   "cell_type": "code",
   "source": [
    "distances_df = db.sql(\"\"\"\n",
    "SELECT * FROM station_connections\n",
    "\"\"\").df()"
   ],
   "id": "ce943f7f503eda44",
   "outputs": [],
   "execution_count": 97
  },
  {
   "metadata": {
    "ExecuteTime": {
     "end_time": "2025-10-25T11:18:11.222099Z",
     "start_time": "2025-10-25T11:18:11.046010Z"
    }
   },
   "cell_type": "code",
   "source": [
    "distances_df['distance'].hist(\n",
    "    bins=30,\n",
    "    figsize=(10, 6),\n",
    "    color='skyblue',\n",
    "    edgecolor='black'\n",
    ")\n",
    "\n",
    "plt.title('Distribution of Station Distances Run by Trains')\n",
    "plt.xlabel('Distance between Stations')\n",
    "plt.ylabel('Number of Connections')\n",
    "plt.grid(True, linestyle='--', alpha=0.6)\n",
    "plt.show()"
   ],
   "id": "a99beb8a0ffa8915",
   "outputs": [
    {
     "data": {
      "text/plain": [
       "<Figure size 1000x600 with 1 Axes>"
      ],
      "image/png": "[encoded data removed]"
     },
     "metadata": {},
     "output_type": "display_data",
     "jetTransient": {
      "display_id": null
     }
    }
   ],
   "execution_count": 99
  }
 ],
 "metadata": {
  "kernelspec": {
   "display_name": "Python 3",
   "language": "python",
   "name": "python3"
  },
  "language_info": {
   "codemirror_mode": {
    "name": "ipython",
    "version": 2
   },
   "file_extension": ".py",
   "mimetype": "text/x-python",
   "name": "python",
   "nbconvert_exporter": "python",
   "pygments_lexer": "ipython2",
   "version": "2.7.6"
  }
 },
 "nbformat": 4,
 "nbformat_minor": 5
}
