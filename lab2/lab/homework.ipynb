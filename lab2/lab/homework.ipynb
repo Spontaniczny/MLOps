{
 "cells": [
  {
   "metadata": {},
   "cell_type": "markdown",
   "source": "# 1.",
   "id": "16f536b5aacf59a7"
  },
  {
   "cell_type": "code",
   "id": "initial_id",
   "metadata": {
    "collapsed": true,
    "ExecuteTime": {
     "end_time": "2025-10-20T18:44:34.307914Z",
     "start_time": "2025-10-20T18:44:34.249956Z"
    }
   },
   "source": "# downloading files by hand because why not",
   "outputs": [],
   "execution_count": 1
  },
  {
   "metadata": {},
   "cell_type": "markdown",
   "source": "# 2.",
   "id": "aec0c708e9243ede"
  },
  {
   "metadata": {
    "ExecuteTime": {
     "end_time": "2025-10-20T19:22:57.086302Z",
     "start_time": "2025-10-20T19:22:57.084784Z"
    }
   },
   "cell_type": "code",
   "source": "import duckdb",
   "id": "46c53aaaf1b83c10",
   "outputs": [],
   "execution_count": 16
  },
  {
   "metadata": {
    "ExecuteTime": {
     "end_time": "2025-10-20T19:47:19.976371Z",
     "start_time": "2025-10-20T19:47:19.961881Z"
    }
   },
   "cell_type": "code",
   "source": [
    "db = duckdb.connect(\"data/duckdb_trains.db\")\n",
    "db"
   ],
   "id": "4fde8072f083f21",
   "outputs": [
    {
     "data": {
      "text/plain": [
       "<_duckdb.DuckDBPyConnection at 0x7a4079d58970>"
      ]
     },
     "execution_count": 38,
     "metadata": {},
     "output_type": "execute_result"
    }
   ],
   "execution_count": 38
  },
  {
   "metadata": {
    "ExecuteTime": {
     "end_time": "2025-10-20T19:00:29.947193Z",
     "start_time": "2025-10-20T19:00:29.933035Z"
    }
   },
   "cell_type": "code",
   "source": [
    "db.sql(\"\"\"\n",
    "CREATE TABLE IF NOT EXISTS stations AS\n",
    "FROM \"data/stations-2023-09.csv\"\n",
    "\"\"\")"
   ],
   "id": "df431a50ca5cf9e0",
   "outputs": [],
   "execution_count": 3
  },
  {
   "metadata": {},
   "cell_type": "markdown",
   "source": "# 3.",
   "id": "2f50b0ce44977c5e"
  },
  {
   "metadata": {
    "ExecuteTime": {
     "end_time": "2025-10-20T19:08:04.102716Z",
     "start_time": "2025-10-20T19:08:03.941728Z"
    }
   },
   "cell_type": "code",
   "source": [
    "db.sql(\"\"\"\n",
    "CREATE TABLE IF NOT EXISTS distances AS\n",
    "    FROM read_csv(\n",
    "        \"data/tariff-distances-2022-01.csv\",\n",
    "        nullstr = 'XXX'\n",
    "    );\n",
    "\"\"\")"
   ],
   "id": "1a49ec91af9c5bee",
   "outputs": [],
   "execution_count": 6
  },
  {
   "metadata": {
    "ExecuteTime": {
     "end_time": "2025-10-20T19:09:23.717651Z",
     "start_time": "2025-10-20T19:09:23.711411Z"
    }
   },
   "cell_type": "code",
   "source": [
    "db.sql(\"\"\"\n",
    "FROM (DESCRIBE distances)\n",
    "LIMIT 5;\n",
    "\"\"\")"
   ],
   "id": "abcba7c9e7c7d02e",
   "outputs": [
    {
     "data": {
      "text/plain": [
       "┌─────────────┬─────────────┬─────────┬─────────┬─────────┬─────────┐\n",
       "│ column_name │ column_type │  null   │   key   │ default │  extra  │\n",
       "│   varchar   │   varchar   │ varchar │ varchar │ varchar │ varchar │\n",
       "├─────────────┼─────────────┼─────────┼─────────┼─────────┼─────────┤\n",
       "│ Station     │ VARCHAR     │ YES     │ NULL    │ NULL    │ NULL    │\n",
       "│ AC          │ BIGINT      │ YES     │ NULL    │ NULL    │ NULL    │\n",
       "│ AH          │ BIGINT      │ YES     │ NULL    │ NULL    │ NULL    │\n",
       "│ AHP         │ BIGINT      │ YES     │ NULL    │ NULL    │ NULL    │\n",
       "│ AHPR        │ BIGINT      │ YES     │ NULL    │ NULL    │ NULL    │\n",
       "└─────────────┴─────────────┴─────────┴─────────┴─────────┴─────────┘"
      ]
     },
     "execution_count": 9,
     "metadata": {},
     "output_type": "execute_result"
    }
   ],
   "execution_count": 9
  },
  {
   "metadata": {
    "ExecuteTime": {
     "end_time": "2025-10-20T19:09:54.338241Z",
     "start_time": "2025-10-20T19:09:54.334042Z"
    }
   },
   "cell_type": "code",
   "source": [
    "db.sql(\"\"\"\n",
    "SELECT #1, #2, #3, #4, #5, #6, #7, #8, #9\n",
    "FROM distances\n",
    "LIMIT 8;\n",
    "\"\"\")"
   ],
   "id": "314f306b57b78a51",
   "outputs": [
    {
     "data": {
      "text/plain": [
       "┌─────────┬───────┬───────┬───────┬───────┬───────┬───────┬───────┬───────┐\n",
       "│ Station │  AC   │  AH   │  AHP  │ AHPR  │  AHZ  │  AKL  │  AKM  │  ALM  │\n",
       "│ varchar │ int64 │ int64 │ int64 │ int64 │ int64 │ int64 │ int64 │ int64 │\n",
       "├─────────┼───────┼───────┼───────┼───────┼───────┼───────┼───────┼───────┤\n",
       "│ AC      │  NULL │    82 │    83 │    85 │    90 │    71 │   188 │    32 │\n",
       "│ AH      │    82 │  NULL │     1 │     3 │     8 │    77 │   153 │    98 │\n",
       "│ AHP     │    83 │     1 │  NULL │     2 │     9 │    78 │   152 │    99 │\n",
       "│ AHPR    │    85 │     3 │     2 │  NULL │    11 │    80 │   150 │   101 │\n",
       "│ AHZ     │    90 │     8 │     9 │    11 │  NULL │    69 │   161 │   106 │\n",
       "│ AKL     │    71 │    77 │    78 │    80 │    69 │  NULL │   211 │    96 │\n",
       "│ AKM     │   188 │   153 │   152 │   150 │   161 │   211 │  NULL │   158 │\n",
       "│ ALM     │    32 │    98 │    99 │   101 │   106 │    96 │   158 │  NULL │\n",
       "└─────────┴───────┴───────┴───────┴───────┴───────┴───────┴───────┴───────┘"
      ]
     },
     "execution_count": 10,
     "metadata": {},
     "output_type": "execute_result"
    }
   ],
   "execution_count": 10
  },
  {
   "metadata": {
    "ExecuteTime": {
     "end_time": "2025-10-20T19:11:28.407246Z",
     "start_time": "2025-10-20T19:11:28.353551Z"
    }
   },
   "cell_type": "code",
   "source": [
    "db.sql(\"\"\"\n",
    "CREATE TABLE IF NOT EXISTS distances_long AS\n",
    "    UNPIVOT distances\n",
    "    ON COLUMNS (* EXCLUDE station)\n",
    "    INTO NAME other_station VALUE distance;\n",
    "\"\"\")"
   ],
   "id": "957c2215e97dc7bc",
   "outputs": [],
   "execution_count": 11
  },
  {
   "metadata": {
    "ExecuteTime": {
     "end_time": "2025-10-20T19:11:40.053316Z",
     "start_time": "2025-10-20T19:11:40.049023Z"
    }
   },
   "cell_type": "code",
   "source": [
    "db.sql(\"\"\"\n",
    "SELECT station, other_station, distance\n",
    "FROM distances_long\n",
    "LIMIT 3;\n",
    "\"\"\")"
   ],
   "id": "7ee0a67a9d3e41db",
   "outputs": [
    {
     "data": {
      "text/plain": [
       "┌─────────┬───────────────┬──────────┐\n",
       "│ Station │ other_station │ distance │\n",
       "│ varchar │    varchar    │  int64   │\n",
       "├─────────┼───────────────┼──────────┤\n",
       "│ AC      │ AH            │       82 │\n",
       "│ AC      │ AHP           │       83 │\n",
       "│ AC      │ AHPR          │       85 │\n",
       "└─────────┴───────────────┴──────────┘"
      ]
     },
     "execution_count": 12,
     "metadata": {},
     "output_type": "execute_result"
    }
   ],
   "execution_count": 12
  },
  {
   "metadata": {
    "ExecuteTime": {
     "end_time": "2025-10-20T19:15:35.753178Z",
     "start_time": "2025-10-20T19:15:35.744576Z"
    }
   },
   "cell_type": "code",
   "source": [
    "db.sql(\"\"\"\n",
    "SELECT\n",
    "    s1.name_long AS station1,\n",
    "    s2.name_long AS station2,\n",
    "    distances_long.distance\n",
    "FROM distances_long\n",
    "JOIN stations s1 ON distances_long.station = s1.code\n",
    "JOIN stations s2 ON distances_long.other_station = s2.code\n",
    "WHERE s1.country = 'NL'\n",
    "  AND s2.country = 'NL'\n",
    "  AND station < other_station\n",
    "ORDER BY distance DESC\n",
    "LIMIT 3;\n",
    "\"\"\")"
   ],
   "id": "bb40be21906b63c7",
   "outputs": [
    {
     "data": {
      "text/plain": [
       "┌──────────────────┬────────────────────┬──────────┐\n",
       "│     station1     │      station2      │ distance │\n",
       "│     varchar      │      varchar       │  int64   │\n",
       "├──────────────────┼────────────────────┼──────────┤\n",
       "│ Eemshaven        │ Vlissingen         │      426 │\n",
       "│ Eemshaven        │ Vlissingen Souburg │      425 │\n",
       "│ Bad Nieuweschans │ Vlissingen         │      425 │\n",
       "└──────────────────┴────────────────────┴──────────┘"
      ]
     },
     "execution_count": 15,
     "metadata": {},
     "output_type": "execute_result"
    }
   ],
   "execution_count": 15
  },
  {
   "metadata": {},
   "cell_type": "markdown",
   "source": "# 4.",
   "id": "468512278d7e7620"
  },
  {
   "metadata": {
    "ExecuteTime": {
     "end_time": "2025-10-20T19:47:38.200950Z",
     "start_time": "2025-10-20T19:47:38.185589Z"
    }
   },
   "cell_type": "code",
   "source": [
    "db.sql(\"\"\"INSTALL postgres; LOAD postgres;\"\"\")\n",
    "\n",
    "# NEVER write password like this explicitly in real code!\n",
    "conn_string = \"host=localhost user=postgres password=postgres dbname=postgres\""
   ],
   "id": "6bca197babe6cef",
   "outputs": [],
   "execution_count": 40
  },
  {
   "metadata": {
    "ExecuteTime": {
     "end_time": "2025-10-20T19:47:40.672761Z",
     "start_time": "2025-10-20T19:47:40.663575Z"
    }
   },
   "cell_type": "code",
   "source": [
    "db.sql(f\"\"\"\n",
    "ATTACH IF NOT EXISTS '{conn_string}' AS postgres_db (TYPE postgres);\n",
    "\"\"\")"
   ],
   "id": "1fd67f4ba1ba081a",
   "outputs": [],
   "execution_count": 41
  },
  {
   "metadata": {
    "ExecuteTime": {
     "end_time": "2025-10-20T19:35:14.245125Z",
     "start_time": "2025-10-20T19:35:13.486976Z"
    }
   },
   "cell_type": "code",
   "source": [
    "schema_df = db.sql(f\"DESCRIBE 'data/disruptions-2023.csv'\").df()\n",
    "schema_df"
   ],
   "id": "af393ab8debdba84",
   "outputs": [
    {
     "data": {
      "text/plain": [
       "             column_name column_type null   key default extra\n",
       "0                 rdt_id      BIGINT  YES  None    None  None\n",
       "1               ns_lines     VARCHAR  YES  None    None  None\n",
       "2              rdt_lines     VARCHAR  YES  None    None  None\n",
       "3           rdt_lines_id     VARCHAR  YES  None    None  None\n",
       "4      rdt_station_names     VARCHAR  YES  None    None  None\n",
       "5      rdt_station_codes     VARCHAR  YES  None    None  None\n",
       "6               cause_nl     VARCHAR  YES  None    None  None\n",
       "7               cause_en     VARCHAR  YES  None    None  None\n",
       "8   statistical_cause_nl     VARCHAR  YES  None    None  None\n",
       "9   statistical_cause_en     VARCHAR  YES  None    None  None\n",
       "10           cause_group     VARCHAR  YES  None    None  None\n",
       "11            start_time   TIMESTAMP  YES  None    None  None\n",
       "12              end_time   TIMESTAMP  YES  None    None  None\n",
       "13      duration_minutes      BIGINT  YES  None    None  None"
      ],
      "text/html": [
       "<div>\n",
       "<style scoped>\n",
       "    .dataframe tbody tr th:only-of-type {\n",
       "        vertical-align: middle;\n",
       "    }\n",
       "\n",
       "    .dataframe tbody tr th {\n",
       "        vertical-align: top;\n",
       "    }\n",
       "\n",
       "    .dataframe thead th {\n",
       "        text-align: right;\n",
       "    }\n",
       "</style>\n",
       "<table border=\"1\" class=\"dataframe\">\n",
       "  <thead>\n",
       "    <tr style=\"text-align: right;\">\n",
       "      <th></th>\n",
       "      <th>column_name</th>\n",
       "      <th>column_type</th>\n",
       "      <th>null</th>\n",
       "      <th>key</th>\n",
       "      <th>default</th>\n",
       "      <th>extra</th>\n",
       "    </tr>\n",
       "  </thead>\n",
       "  <tbody>\n",
       "    <tr>\n",
       "      <th>0</th>\n",
       "      <td>rdt_id</td>\n",
       "      <td>BIGINT</td>\n",
       "      <td>YES</td>\n",
       "      <td>None</td>\n",
       "      <td>None</td>\n",
       "      <td>None</td>\n",
       "    </tr>\n",
       "    <tr>\n",
       "      <th>1</th>\n",
       "      <td>ns_lines</td>\n",
       "      <td>VARCHAR</td>\n",
       "      <td>YES</td>\n",
       "      <td>None</td>\n",
       "      <td>None</td>\n",
       "      <td>None</td>\n",
       "    </tr>\n",
       "    <tr>\n",
       "      <th>2</th>\n",
       "      <td>rdt_lines</td>\n",
       "      <td>VARCHAR</td>\n",
       "      <td>YES</td>\n",
       "      <td>None</td>\n",
       "      <td>None</td>\n",
       "      <td>None</td>\n",
       "    </tr>\n",
       "    <tr>\n",
       "      <th>3</th>\n",
       "      <td>rdt_lines_id</td>\n",
       "      <td>VARCHAR</td>\n",
       "      <td>YES</td>\n",
       "      <td>None</td>\n",
       "      <td>None</td>\n",
       "      <td>None</td>\n",
       "    </tr>\n",
       "    <tr>\n",
       "      <th>4</th>\n",
       "      <td>rdt_station_names</td>\n",
       "      <td>VARCHAR</td>\n",
       "      <td>YES</td>\n",
       "      <td>None</td>\n",
       "      <td>None</td>\n",
       "      <td>None</td>\n",
       "    </tr>\n",
       "    <tr>\n",
       "      <th>5</th>\n",
       "      <td>rdt_station_codes</td>\n",
       "      <td>VARCHAR</td>\n",
       "      <td>YES</td>\n",
       "      <td>None</td>\n",
       "      <td>None</td>\n",
       "      <td>None</td>\n",
       "    </tr>\n",
       "    <tr>\n",
       "      <th>6</th>\n",
       "      <td>cause_nl</td>\n",
       "      <td>VARCHAR</td>\n",
       "      <td>YES</td>\n",
       "      <td>None</td>\n",
       "      <td>None</td>\n",
       "      <td>None</td>\n",
       "    </tr>\n",
       "    <tr>\n",
       "      <th>7</th>\n",
       "      <td>cause_en</td>\n",
       "      <td>VARCHAR</td>\n",
       "      <td>YES</td>\n",
       "      <td>None</td>\n",
       "      <td>None</td>\n",
       "      <td>None</td>\n",
       "    </tr>\n",
       "    <tr>\n",
       "      <th>8</th>\n",
       "      <td>statistical_cause_nl</td>\n",
       "      <td>VARCHAR</td>\n",
       "      <td>YES</td>\n",
       "      <td>None</td>\n",
       "      <td>None</td>\n",
       "      <td>None</td>\n",
       "    </tr>\n",
       "    <tr>\n",
       "      <th>9</th>\n",
       "      <td>statistical_cause_en</td>\n",
       "      <td>VARCHAR</td>\n",
       "      <td>YES</td>\n",
       "      <td>None</td>\n",
       "      <td>None</td>\n",
       "      <td>None</td>\n",
       "    </tr>\n",
       "    <tr>\n",
       "      <th>10</th>\n",
       "      <td>cause_group</td>\n",
       "      <td>VARCHAR</td>\n",
       "      <td>YES</td>\n",
       "      <td>None</td>\n",
       "      <td>None</td>\n",
       "      <td>None</td>\n",
       "    </tr>\n",
       "    <tr>\n",
       "      <th>11</th>\n",
       "      <td>start_time</td>\n",
       "      <td>TIMESTAMP</td>\n",
       "      <td>YES</td>\n",
       "      <td>None</td>\n",
       "      <td>None</td>\n",
       "      <td>None</td>\n",
       "    </tr>\n",
       "    <tr>\n",
       "      <th>12</th>\n",
       "      <td>end_time</td>\n",
       "      <td>TIMESTAMP</td>\n",
       "      <td>YES</td>\n",
       "      <td>None</td>\n",
       "      <td>None</td>\n",
       "      <td>None</td>\n",
       "    </tr>\n",
       "    <tr>\n",
       "      <th>13</th>\n",
       "      <td>duration_minutes</td>\n",
       "      <td>BIGINT</td>\n",
       "      <td>YES</td>\n",
       "      <td>None</td>\n",
       "      <td>None</td>\n",
       "      <td>None</td>\n",
       "    </tr>\n",
       "  </tbody>\n",
       "</table>\n",
       "</div>"
      ]
     },
     "execution_count": 21,
     "metadata": {},
     "output_type": "execute_result"
    }
   ],
   "execution_count": 21
  },
  {
   "metadata": {
    "ExecuteTime": {
     "end_time": "2025-10-20T19:35:38.362924Z",
     "start_time": "2025-10-20T19:35:38.360365Z"
    }
   },
   "cell_type": "code",
   "source": [
    "column_defs = []\n",
    "for index, row in schema_df.iterrows():\n",
    "    col_name = row['column_name']\n",
    "    col_type = row['column_type']\n",
    "\n",
    "    column_defs.append(f'\"{col_name}\" {col_type}')\n",
    "\n",
    "column_sql = \",\\n    \".join(column_defs)"
   ],
   "id": "e29961f4c971b180",
   "outputs": [],
   "execution_count": 22
  },
  {
   "metadata": {
    "ExecuteTime": {
     "end_time": "2025-10-20T19:35:46.838875Z",
     "start_time": "2025-10-20T19:35:46.837121Z"
    }
   },
   "cell_type": "code",
   "source": [
    "create_table_sql = f\"\"\"\n",
    "CREATE TABLE IF NOT EXISTS postgres_db.disruptions (\n",
    "    {column_sql}\n",
    ");\n",
    "\"\"\""
   ],
   "id": "f70b640a2361ff0a",
   "outputs": [],
   "execution_count": 23
  },
  {
   "metadata": {
    "ExecuteTime": {
     "end_time": "2025-10-20T19:35:54.612732Z",
     "start_time": "2025-10-20T19:35:54.610927Z"
    }
   },
   "cell_type": "code",
   "source": "print(create_table_sql)",
   "id": "20a1e521357ae45b",
   "outputs": [
    {
     "name": "stdout",
     "output_type": "stream",
     "text": [
      "\n",
      "CREATE TABLE IF NOT EXISTS postgres_db.disruptions (\n",
      "    \"rdt_id\" BIGINT,\n",
      "    \"ns_lines\" VARCHAR,\n",
      "    \"rdt_lines\" VARCHAR,\n",
      "    \"rdt_lines_id\" VARCHAR,\n",
      "    \"rdt_station_names\" VARCHAR,\n",
      "    \"rdt_station_codes\" VARCHAR,\n",
      "    \"cause_nl\" VARCHAR,\n",
      "    \"cause_en\" VARCHAR,\n",
      "    \"statistical_cause_nl\" VARCHAR,\n",
      "    \"statistical_cause_en\" VARCHAR,\n",
      "    \"cause_group\" VARCHAR,\n",
      "    \"start_time\" TIMESTAMP,\n",
      "    \"end_time\" TIMESTAMP,\n",
      "    \"duration_minutes\" BIGINT\n",
      ");\n",
      "\n"
     ]
    }
   ],
   "execution_count": 24
  },
  {
   "metadata": {
    "ExecuteTime": {
     "end_time": "2025-10-20T19:36:03.103172Z",
     "start_time": "2025-10-20T19:36:03.100829Z"
    }
   },
   "cell_type": "code",
   "source": "db.sql(create_table_sql)",
   "id": "c5e871b7f0a089e1",
   "outputs": [],
   "execution_count": 25
  },
  {
   "metadata": {
    "ExecuteTime": {
     "end_time": "2025-10-20T19:40:28.827796Z",
     "start_time": "2025-10-20T19:40:28.825859Z"
    }
   },
   "cell_type": "code",
   "source": [
    "str_tab = [\"INSERT INTO postgres_db.disruptions\"]\n",
    "for i in range(2011, 2024):\n",
    "    str_tab.append(f\"SELECT * FROM 'data/disruptions-{i}.csv'\")\n",
    "    str_tab.append(\"UNION ALL\")\n",
    "\n",
    "str_tab.pop()\n",
    "\n",
    "query_insert = \"\\n    \".join(str_tab)"
   ],
   "id": "b4eda0a442f82b79",
   "outputs": [],
   "execution_count": 29
  },
  {
   "metadata": {
    "ExecuteTime": {
     "end_time": "2025-10-20T19:40:29.376902Z",
     "start_time": "2025-10-20T19:40:29.375281Z"
    }
   },
   "cell_type": "code",
   "source": "print(query_insert)",
   "id": "f6b58cbc0cee4b19",
   "outputs": [
    {
     "name": "stdout",
     "output_type": "stream",
     "text": [
      "INSERT INTO postgres_db.disruptions\n",
      "    SELECT * FROM 'data/disruptions-2011.csv'\n",
      "    UNION ALL\n",
      "    SELECT * FROM 'data/disruptions-2012.csv'\n",
      "    UNION ALL\n",
      "    SELECT * FROM 'data/disruptions-2013.csv'\n",
      "    UNION ALL\n",
      "    SELECT * FROM 'data/disruptions-2014.csv'\n",
      "    UNION ALL\n",
      "    SELECT * FROM 'data/disruptions-2015.csv'\n",
      "    UNION ALL\n",
      "    SELECT * FROM 'data/disruptions-2016.csv'\n",
      "    UNION ALL\n",
      "    SELECT * FROM 'data/disruptions-2017.csv'\n",
      "    UNION ALL\n",
      "    SELECT * FROM 'data/disruptions-2018.csv'\n",
      "    UNION ALL\n",
      "    SELECT * FROM 'data/disruptions-2019.csv'\n",
      "    UNION ALL\n",
      "    SELECT * FROM 'data/disruptions-2020.csv'\n",
      "    UNION ALL\n",
      "    SELECT * FROM 'data/disruptions-2021.csv'\n",
      "    UNION ALL\n",
      "    SELECT * FROM 'data/disruptions-2022.csv'\n",
      "    UNION ALL\n",
      "    SELECT * FROM 'data/disruptions-2023.csv'\n"
     ]
    }
   ],
   "execution_count": 30
  },
  {
   "metadata": {
    "ExecuteTime": {
     "end_time": "2025-10-20T19:41:00.849901Z",
     "start_time": "2025-10-20T19:41:00.415069Z"
    }
   },
   "cell_type": "code",
   "source": "db.sql(query_insert)",
   "id": "a7409a47eb3e008c",
   "outputs": [],
   "execution_count": 31
  },
  {
   "metadata": {
    "ExecuteTime": {
     "end_time": "2025-10-20T19:47:46.928514Z",
     "start_time": "2025-10-20T19:47:46.880813Z"
    }
   },
   "cell_type": "code",
   "source": [
    "db.sql(\"\"\"\n",
    "SELECT * FROM postgres_db.disruptions LIMIT 3\n",
    "\"\"\").df()"
   ],
   "id": "5c38fc6d5a996f",
   "outputs": [
    {
     "data": {
      "text/plain": [
       "   rdt_id                              ns_lines  \\\n",
       "0   40500  Den Haag-Rotterdam; Leiden-Rotterdam   \n",
       "1   40501  Amsterdam-Utrecht; Utrecht-Eindhoven   \n",
       "2   40502              Schiphol-Rotterdam (HSL)   \n",
       "\n",
       "                                           rdt_lines rdt_lines_id  \\\n",
       "0                   Den Haag HS - Rotterdam Centraal           11   \n",
       "1  's-Hertogenbosch - Utrecht Centraal, Amsterdam...      136,151   \n",
       "2        Rotterdam Centraal - Schiphol Airport (HSL)           24   \n",
       "\n",
       "                                   rdt_station_names  \\\n",
       "0  Delft,Delft Campus,Den Haag HS,Den Haag Moerwi...   \n",
       "1  Abcoude,Amsterdam Amstel,Amsterdam Bijlmer Are...   \n",
       "2                Rotterdam Centraal,Schiphol Airport   \n",
       "\n",
       "                                   rdt_station_codes              cause_nl  \\\n",
       "0                            DT, DTCP, GV, GVMW, RSW          brandmelding   \n",
       "1  AC, ASA, ASB, ASD, ASDM, ASHD, BKL, CL, DVD, G...  herstelwerkzaamheden   \n",
       "2                                           RTD, SHL          brandmelding   \n",
       "\n",
       "       cause_en  statistical_cause_nl statistical_cause_en       cause_group  \\\n",
       "0    fire alarm          brandmelding           fire alarm          external   \n",
       "1  repair works  herstelwerkzaamheden         repair works  engineering work   \n",
       "2    fire alarm          brandmelding           fire alarm          external   \n",
       "\n",
       "           start_time            end_time  duration_minutes  \n",
       "0 2022-01-01 05:45:33 2022-01-01 06:34:58                49  \n",
       "1 2022-01-01 06:23:54 2022-01-01 13:59:14               455  \n",
       "2 2022-01-01 06:33:40 2022-01-01 06:34:27                 1  "
      ],
      "text/html": [
       "<div>\n",
       "<style scoped>\n",
       "    .dataframe tbody tr th:only-of-type {\n",
       "        vertical-align: middle;\n",
       "    }\n",
       "\n",
       "    .dataframe tbody tr th {\n",
       "        vertical-align: top;\n",
       "    }\n",
       "\n",
       "    .dataframe thead th {\n",
       "        text-align: right;\n",
       "    }\n",
       "</style>\n",
       "<table border=\"1\" class=\"dataframe\">\n",
       "  <thead>\n",
       "    <tr style=\"text-align: right;\">\n",
       "      <th></th>\n",
       "      <th>rdt_id</th>\n",
       "      <th>ns_lines</th>\n",
       "      <th>rdt_lines</th>\n",
       "      <th>rdt_lines_id</th>\n",
       "      <th>rdt_station_names</th>\n",
       "      <th>rdt_station_codes</th>\n",
       "      <th>cause_nl</th>\n",
       "      <th>cause_en</th>\n",
       "      <th>statistical_cause_nl</th>\n",
       "      <th>statistical_cause_en</th>\n",
       "      <th>cause_group</th>\n",
       "      <th>start_time</th>\n",
       "      <th>end_time</th>\n",
       "      <th>duration_minutes</th>\n",
       "    </tr>\n",
       "  </thead>\n",
       "  <tbody>\n",
       "    <tr>\n",
       "      <th>0</th>\n",
       "      <td>40500</td>\n",
       "      <td>Den Haag-Rotterdam; Leiden-Rotterdam</td>\n",
       "      <td>Den Haag HS - Rotterdam Centraal</td>\n",
       "      <td>11</td>\n",
       "      <td>Delft,Delft Campus,Den Haag HS,Den Haag Moerwi...</td>\n",
       "      <td>DT, DTCP, GV, GVMW, RSW</td>\n",
       "      <td>brandmelding</td>\n",
       "      <td>fire alarm</td>\n",
       "      <td>brandmelding</td>\n",
       "      <td>fire alarm</td>\n",
       "      <td>external</td>\n",
       "      <td>2022-01-01 05:45:33</td>\n",
       "      <td>2022-01-01 06:34:58</td>\n",
       "      <td>49</td>\n",
       "    </tr>\n",
       "    <tr>\n",
       "      <th>1</th>\n",
       "      <td>40501</td>\n",
       "      <td>Amsterdam-Utrecht; Utrecht-Eindhoven</td>\n",
       "      <td>'s-Hertogenbosch - Utrecht Centraal, Amsterdam...</td>\n",
       "      <td>136,151</td>\n",
       "      <td>Abcoude,Amsterdam Amstel,Amsterdam Bijlmer Are...</td>\n",
       "      <td>AC, ASA, ASB, ASD, ASDM, ASHD, BKL, CL, DVD, G...</td>\n",
       "      <td>herstelwerkzaamheden</td>\n",
       "      <td>repair works</td>\n",
       "      <td>herstelwerkzaamheden</td>\n",
       "      <td>repair works</td>\n",
       "      <td>engineering work</td>\n",
       "      <td>2022-01-01 06:23:54</td>\n",
       "      <td>2022-01-01 13:59:14</td>\n",
       "      <td>455</td>\n",
       "    </tr>\n",
       "    <tr>\n",
       "      <th>2</th>\n",
       "      <td>40502</td>\n",
       "      <td>Schiphol-Rotterdam (HSL)</td>\n",
       "      <td>Rotterdam Centraal - Schiphol Airport (HSL)</td>\n",
       "      <td>24</td>\n",
       "      <td>Rotterdam Centraal,Schiphol Airport</td>\n",
       "      <td>RTD, SHL</td>\n",
       "      <td>brandmelding</td>\n",
       "      <td>fire alarm</td>\n",
       "      <td>brandmelding</td>\n",
       "      <td>fire alarm</td>\n",
       "      <td>external</td>\n",
       "      <td>2022-01-01 06:33:40</td>\n",
       "      <td>2022-01-01 06:34:27</td>\n",
       "      <td>1</td>\n",
       "    </tr>\n",
       "  </tbody>\n",
       "</table>\n",
       "</div>"
      ]
     },
     "execution_count": 42,
     "metadata": {},
     "output_type": "execute_result"
    }
   ],
   "execution_count": 42
  },
  {
   "metadata": {},
   "cell_type": "markdown",
   "source": "# 5.",
   "id": "18dd4b0a5d23e082"
  },
  {
   "metadata": {
    "ExecuteTime": {
     "end_time": "2025-10-20T20:11:15.927128Z",
     "start_time": "2025-10-20T20:10:55.185944Z"
    }
   },
   "cell_type": "code",
   "source": "db.sql(\"COPY (FROM 'data/services-20*.csv') TO 'data/services.parquet' (FORMAT PARQUET, CODEC ZSTD);\")",
   "id": "4317dd2e1ac8db35",
   "outputs": [
    {
     "data": {
      "text/plain": [
       "FloatProgress(value=0.0, layout=Layout(width='auto'), style=ProgressStyle(bar_color='black'))"
      ],
      "application/vnd.jupyter.widget-view+json": {
       "version_major": 2,
       "version_minor": 0,
       "model_id": "3be6c973985f48c69ba259646f90b8ac"
      }
     },
     "metadata": {},
     "output_type": "display_data",
     "jetTransient": {
      "display_id": null
     }
    }
   ],
   "execution_count": 49
  },
  {
   "metadata": {
    "ExecuteTime": {
     "end_time": "2025-10-20T20:13:48.482676Z",
     "start_time": "2025-10-20T20:13:48.446263Z"
    }
   },
   "cell_type": "code",
   "source": [
    "db.sql(\"\"\"\n",
    "CREATE TABLE IF NOT EXISTS services AS\n",
    "FROM 'data/services.parquet'\n",
    "\"\"\")"
   ],
   "id": "4a54985d7eb31a9d",
   "outputs": [],
   "execution_count": 52
  },
  {
   "metadata": {},
   "cell_type": "markdown",
   "source": "# 6. Six was a lie!",
   "id": "54177e277813e271"
  },
  {
   "metadata": {},
   "cell_type": "markdown",
   "source": "# 7.",
   "id": "4dc000b27bdba119"
  },
  {
   "metadata": {
    "ExecuteTime": {
     "end_time": "2025-10-20T20:51:28.191780Z",
     "start_time": "2025-10-20T20:51:28.150439Z"
    }
   },
   "cell_type": "code",
   "source": [
    "db.sql(\"\"\"\n",
    "SELECT COUNT(*) FROM services\n",
    "WHERE \"Stop:Departure cancelled\" = 'false' AND \"Stop:Departure time\" IS NOT NULL AND \"Stop:Station name\" = 'Amsterdam Centraal'\n",
    "\"\"\")"
   ],
   "id": "bca83a1c704f8008",
   "outputs": [
    {
     "data": {
      "text/plain": [
       "┌──────────────┐\n",
       "│ count_star() │\n",
       "│    int64     │\n",
       "├──────────────┤\n",
       "│      1735131 │\n",
       "└──────────────┘"
      ]
     },
     "execution_count": 58,
     "metadata": {},
     "output_type": "execute_result"
    }
   ],
   "execution_count": 58
  },
  {
   "metadata": {
    "ExecuteTime": {
     "end_time": "2025-10-20T20:58:05.515407Z",
     "start_time": "2025-10-20T20:58:05.454763Z"
    }
   },
   "cell_type": "code",
   "source": [
    "db.sql(\"\"\"\n",
    "SELECT \"Service:Type\",\n",
    "       AVG(\"Stop:Arrival delay\") AS avg_arrival_delay\n",
    "FROM services\n",
    "WHERE \"Stop:Arrival delay\" IS NOT NULL\n",
    "GROUP BY \"Service:Type\"\n",
    "ORDER BY avg_arrival_delay DESC\n",
    "\"\"\")"
   ],
   "id": "981529aa2ff2d7e2",
   "outputs": [
    {
     "data": {
      "text/plain": [
       "┌──────────────────────┬────────────────────┐\n",
       "│     Service:Type     │ avg_arrival_delay  │\n",
       "│       varchar        │       double       │\n",
       "├──────────────────────┼────────────────────┤\n",
       "│ Alpen Express        │  31.84254143646409 │\n",
       "│ Krokus Express       │ 18.304347826086957 │\n",
       "│ European Sleeper     │ 14.730917608156517 │\n",
       "│ Nightjet             │  9.256974238121135 │\n",
       "│ Eurostar             │  7.221416941972401 │\n",
       "│ ICE International    │  5.482790573052148 │\n",
       "│ Thalys               │ 5.3961896909446025 │\n",
       "│ Int. Trein           │ 4.9727022780832675 │\n",
       "│ Nachttrein           │ 3.7960975609756096 │\n",
       "│ Stoomtrein           │  3.366863905325444 │\n",
       "│     ·                │                 ·  │\n",
       "│     ·                │                 ·  │\n",
       "│     ·                │                 ·  │\n",
       "│ Metro i.p.v. trein   │                0.0 │\n",
       "│ Belbus ipv trein     │                0.0 │\n",
       "│ Niet instappen       │                0.0 │\n",
       "│ stoptrein            │                0.0 │\n",
       "│ Tram i.p.v. trein    │                0.0 │\n",
       "│ Metro                │                0.0 │\n",
       "│ Snelbus i.p.v. trein │                0.0 │\n",
       "│ Metro ipv trein      │                0.0 │\n",
       "│ Bus                  │                0.0 │\n",
       "│ Tram ipv trein       │                0.0 │\n",
       "├──────────────────────┴────────────────────┤\n",
       "│ 38 rows (20 shown)              2 columns │\n",
       "└───────────────────────────────────────────┘"
      ]
     },
     "execution_count": 60,
     "metadata": {},
     "output_type": "execute_result"
    }
   ],
   "execution_count": 60
  },
  {
   "metadata": {
    "ExecuteTime": {
     "end_time": "2025-10-20T21:07:05.454455Z",
     "start_time": "2025-10-20T21:07:05.434664Z"
    }
   },
   "cell_type": "code",
   "source": [
    "db.sql(\"\"\"\n",
    "SELECT MODE(\"cause_en\")AS cause_en,\n",
    "       YEAR(\"start_time\") AS year\n",
    "FROM postgres_db.disruptions\n",
    "GROUP BY YEAR(\"start_time\")\n",
    "\"\"\")"
   ],
   "id": "b5ab67386325bacc",
   "outputs": [
    {
     "data": {
      "text/plain": [
       "┌───────────────────┬───────┐\n",
       "│     cause_en      │ year  │\n",
       "│      varchar      │ int64 │\n",
       "├───────────────────┼───────┤\n",
       "│ broken down train │  2016 │\n",
       "│ broken down train │  2020 │\n",
       "│ points failure    │  2012 │\n",
       "│ broken down train │  2011 │\n",
       "│ broken down train │  2021 │\n",
       "│ broken down train │  2015 │\n",
       "│ broken down train │  2023 │\n",
       "│ broken down train │  2022 │\n",
       "│ broken down train │  2017 │\n",
       "│ points failure    │  2013 │\n",
       "│ broken down train │  2019 │\n",
       "│ broken down train │  2014 │\n",
       "│ broken down train │  2018 │\n",
       "├───────────────────┴───────┤\n",
       "│ 13 rows         2 columns │\n",
       "└───────────────────────────┘"
      ]
     },
     "execution_count": 71,
     "metadata": {},
     "output_type": "execute_result"
    }
   ],
   "execution_count": 71
  },
  {
   "metadata": {
    "ExecuteTime": {
     "end_time": "2025-10-20T21:10:09.260747Z",
     "start_time": "2025-10-20T21:10:09.214792Z"
    }
   },
   "cell_type": "code",
   "source": [
    "db.sql(\"\"\"\n",
    "SELECT COUNT(*) FROM services\n",
    "WHERE \"Stop:Departure cancelled\" = 'false' AND \"Stop:Arrival time\" IS NULL AND \"Stop:Station name\" LIKE '%Amsterdam%'\n",
    "\"\"\")"
   ],
   "id": "78bd4879971e21f1",
   "outputs": [
    {
     "data": {
      "text/plain": [
       "┌──────────────┐\n",
       "│ count_star() │\n",
       "│    int64     │\n",
       "├──────────────┤\n",
       "│      1142042 │\n",
       "└──────────────┘"
      ]
     },
     "execution_count": 79,
     "metadata": {},
     "output_type": "execute_result"
    }
   ],
   "execution_count": 79
  },
  {
   "metadata": {
    "ExecuteTime": {
     "end_time": "2025-10-20T21:38:55.339542Z",
     "start_time": "2025-10-20T21:38:55.260028Z"
    }
   },
   "cell_type": "code",
   "source": [
    "db.sql(\"\"\"\n",
    "SELECT (\n",
    "    SELECT COUNT(*)\n",
    "    FROM services\n",
    "\n",
    "    INNER JOIN stations\n",
    "    ON services.\"Stop:Station code\" = stations.code\n",
    "\n",
    "\n",
    "    WHERE \"Stop:Arrival cancelled\" = 'false' AND \"Stop:Departure time\" IS NULL AND stations.country\t != 'NL'\n",
    "    ) / COUNT(*) AS fraction_of_services_final_destination_outside_netherlands\n",
    "FROM services\n",
    "\"\"\")"
   ],
   "id": "8b0b08fd2bd1ea3a",
   "outputs": [
    {
     "data": {
      "text/plain": [
       "┌────────────────────────────────────────────────────────────┐\n",
       "│ fraction_of_services_final_destination_outside_netherlands │\n",
       "│                           double                           │\n",
       "├────────────────────────────────────────────────────────────┤\n",
       "│                                      0.0038246043730004093 │\n",
       "└────────────────────────────────────────────────────────────┘"
      ]
     },
     "execution_count": 99,
     "metadata": {},
     "output_type": "execute_result"
    }
   ],
   "execution_count": 99
  },
  {
   "metadata": {
    "ExecuteTime": {
     "end_time": "2025-10-20T21:42:25.762835Z",
     "start_time": "2025-10-20T21:42:25.751770Z"
    }
   },
   "cell_type": "code",
   "source": [
    "db.sql(\"\"\"\n",
    "SELECT\n",
    "    s1.name_long AS station1,\n",
    "    s2.name_long AS station2,\n",
    "    distances_long.distance\n",
    "FROM distances_long\n",
    "JOIN stations s1 ON distances_long.station = s1.code\n",
    "JOIN stations s2 ON distances_long.other_station = s2.code\n",
    "WHERE s1.country = 'NL'\n",
    "  AND s2.country = 'NL'\n",
    "  AND station < other_station\n",
    "ORDER BY distance DESC\n",
    "LIMIT 1;\n",
    "\"\"\")"
   ],
   "id": "ee914151092c5b71",
   "outputs": [
    {
     "data": {
      "text/plain": [
       "┌───────────┬────────────┬──────────┐\n",
       "│ station1  │  station2  │ distance │\n",
       "│  varchar  │  varchar   │  int64   │\n",
       "├───────────┼────────────┼──────────┤\n",
       "│ Eemshaven │ Vlissingen │      426 │\n",
       "└───────────┴────────────┴──────────┘"
      ]
     },
     "execution_count": 104,
     "metadata": {},
     "output_type": "execute_result"
    }
   ],
   "execution_count": 104
  },
  {
   "metadata": {
    "ExecuteTime": {
     "end_time": "2025-10-20T21:50:57.511017Z",
     "start_time": "2025-10-20T21:50:57.469578Z"
    }
   },
   "cell_type": "code",
   "source": [
    "company_avg_delay = db.sql(\"\"\"\n",
    "SELECT \"Service:Company\",\n",
    "       AVG(\"Stop:Arrival delay\") AS avg_delay\n",
    "FROM services\n",
    "GROUP BY \"Service:Company\"\n",
    "ORDER BY avg_delay DESC\n",
    "\"\"\").df()"
   ],
   "id": "62263feeecfd4010",
   "outputs": [],
   "execution_count": 111
  },
  {
   "metadata": {
    "ExecuteTime": {
     "end_time": "2025-10-20T21:53:28.591385Z",
     "start_time": "2025-10-20T21:53:27.895138Z"
    }
   },
   "cell_type": "code",
   "source": [
    "import matplotlib.pyplot as plt\n",
    "\n",
    "df_sorted = company_avg_delay.sort_values(by=\"avg_delay\", ascending=False)\n",
    "\n",
    "companies = df_sorted[\"Service:Company\"]\n",
    "avg_delays = df_sorted[\"avg_delay\"]\n",
    "\n",
    "plt.figure(figsize=(10, 6))\n",
    "\n",
    "plt.bar(\n",
    "    companies,\n",
    "    avg_delays,\n",
    "    color='skyblue'\n",
    ")\n",
    "\n",
    "plt.title(\"Average Arrival Delay by Train Operator\", fontsize=16)\n",
    "plt.xlabel(\"Train Operator (Service:Company)\", fontsize=12)\n",
    "plt.ylabel(\"Average Delay (Minutes)\", fontsize=12)\n",
    "\n",
    "plt.xticks(rotation=45, ha='right')\n",
    "plt.grid(axis='y', linestyle='--', alpha=0.7)\n",
    "plt.tight_layout()\n",
    "plt.show()"
   ],
   "id": "37e683de533df693",
   "outputs": [
    {
     "data": {
      "text/plain": [
       "<Figure size 1000x600 with 1 Axes>"
      ],
      "image/png": "[encoded data removed]"
     },
     "metadata": {},
     "output_type": "display_data",
     "jetTransient": {
      "display_id": null
     }
    }
   ],
   "execution_count": 112
  },
  {
   "metadata": {},
   "cell_type": "code",
   "outputs": [],
   "execution_count": null,
   "source": "",
   "id": "aeaf5489e87a8e18"
  },
  {
   "metadata": {
    "ExecuteTime": {
     "end_time": "2025-10-20T21:58:38.075896Z",
     "start_time": "2025-10-20T21:58:38.057566Z"
    }
   },
   "cell_type": "code",
   "source": [
    "disruptions_by_year = db.sql(\"\"\"\n",
    "SELECT COUNT(*) AS disruptions_number,\n",
    "       YEAR(\"start_time\") AS year\n",
    "FROM postgres_db.disruptions\n",
    "GROUP BY year\n",
    "ORDER BY disruptions_number DESC\n",
    "\"\"\").df()"
   ],
   "id": "f0a34a8cb8bd7d74",
   "outputs": [],
   "execution_count": 118
  },
  {
   "metadata": {
    "ExecuteTime": {
     "end_time": "2025-10-20T21:58:38.588412Z",
     "start_time": "2025-10-20T21:58:38.528378Z"
    }
   },
   "cell_type": "code",
   "source": [
    "disruptions_by_year.plot.line(\n",
    "    x=\"year\", y=\"disruptions_number\", title=\"Number of disruptions by year\"\n",
    ")"
   ],
   "id": "19d2ee2e858c39af",
   "outputs": [
    {
     "data": {
      "text/plain": [
       "<Axes: title={'center': 'Number of services in 2024 by month'}, xlabel='year'>"
      ]
     },
     "execution_count": 119,
     "metadata": {},
     "output_type": "execute_result"
    },
    {
     "data": {
      "text/plain": [
       "<Figure size 640x480 with 1 Axes>"
      ],
      "image/png": "[encoded data removed]"
     },
     "metadata": {},
     "output_type": "display_data",
     "jetTransient": {
      "display_id": null
     }
    }
   ],
   "execution_count": 119
  },
  {
   "metadata": {},
   "cell_type": "markdown",
   "source": "# 8.",
   "id": "b05250f6cf1d568"
  },
  {
   "metadata": {},
   "cell_type": "code",
   "outputs": [],
   "execution_count": null,
   "source": "",
   "id": "c03b30111b97d6bf"
  }
 ],
 "metadata": {
  "kernelspec": {
   "display_name": "Python 3",
   "language": "python",
   "name": "python3"
  },
  "language_info": {
   "codemirror_mode": {
    "name": "ipython",
    "version": 2
   },
   "file_extension": ".py",
   "mimetype": "text/x-python",
   "name": "python",
   "nbconvert_exporter": "python",
   "pygments_lexer": "ipython2",
   "version": "2.7.6"
  }
 },
 "nbformat": 4,
 "nbformat_minor": 5
}
